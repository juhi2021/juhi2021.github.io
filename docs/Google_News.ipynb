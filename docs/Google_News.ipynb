{
  "nbformat": 4,
  "nbformat_minor": 0,
  "metadata": {
    "colab": {
      "name": "Google News.ipynb",
      "provenance": [],
      "authorship_tag": "ABX9TyOBZA6FBMYdBT1R+aJWxHKP",
      "include_colab_link": true
    },
    "kernelspec": {
      "name": "python3",
      "display_name": "Python 3"
    },
    "language_info": {
      "name": "python"
    }
  },
  "cells": [
    {
      "cell_type": "markdown",
      "metadata": {
        "id": "view-in-github",
        "colab_type": "text"
      },
      "source": [
        "<a href=\"https://colab.research.google.com/github/juhi2021/juhi2021.github.io/blob/main/Google_News.ipynb\" target=\"_parent\"><img src=\"https://colab.research.google.com/assets/colab-badge.svg\" alt=\"Open In Colab\"/></a>"
      ]
    },
    {
      "cell_type": "code",
      "metadata": {
        "colab": {
          "base_uri": "https://localhost:8080/"
        },
        "id": "6IusrmsVX-ZU",
        "outputId": "af53d759-aa62-4af8-cfe2-75e8f62e9522"
      },
      "source": [
        "pip install GoogleNews"
      ],
      "execution_count": null,
      "outputs": [
        {
          "output_type": "stream",
          "text": [
            "Collecting GoogleNews\n",
            "  Downloading GoogleNews-1.5.9-py3-none-any.whl (7.8 kB)\n",
            "Requirement already satisfied: beautifulsoup4 in /usr/local/lib/python3.7/dist-packages (from GoogleNews) (4.6.3)\n",
            "Collecting dateparser\n",
            "  Downloading dateparser-1.0.0-py2.py3-none-any.whl (279 kB)\n",
            "\u001b[K     |████████████████████████████████| 279 kB 6.0 MB/s \n",
            "\u001b[?25hRequirement already satisfied: python-dateutil in /usr/local/lib/python3.7/dist-packages (from GoogleNews) (2.8.1)\n",
            "Requirement already satisfied: pytz in /usr/local/lib/python3.7/dist-packages (from dateparser->GoogleNews) (2018.9)\n",
            "Requirement already satisfied: tzlocal in /usr/local/lib/python3.7/dist-packages (from dateparser->GoogleNews) (1.5.1)\n",
            "Requirement already satisfied: regex!=2019.02.19 in /usr/local/lib/python3.7/dist-packages (from dateparser->GoogleNews) (2019.12.20)\n",
            "Requirement already satisfied: six>=1.5 in /usr/local/lib/python3.7/dist-packages (from python-dateutil->GoogleNews) (1.15.0)\n",
            "Installing collected packages: dateparser, GoogleNews\n",
            "Successfully installed GoogleNews-1.5.9 dateparser-1.0.0\n"
          ],
          "name": "stdout"
        }
      ]
    },
    {
      "cell_type": "code",
      "metadata": {
        "id": "3raTng63XwJ9"
      },
      "source": [
        "from GoogleNews import GoogleNews\n",
        "'''\n",
        "Language: lang as English\n",
        "Period: period as number, N, representing news from last N days\n",
        "'''\n",
        "googlenews = GoogleNews(lang='en', period='1d')"
      ],
      "execution_count": null,
      "outputs": []
    },
    {
      "cell_type": "code",
      "metadata": {
        "colab": {
          "base_uri": "https://localhost:8080/"
        },
        "id": "Koi49rpqYDVS",
        "outputId": "b6250f7d-c6fd-41b5-9c11-ca81b671f2ae"
      },
      "source": [
        "'''\n",
        "Search method takes parameter as search text\n",
        "'''\n",
        "googlenews.search('\"machine learning\"')\n",
        "'''\n",
        "Returns JSON objects representing different news\n",
        "'''\n",
        "results = googlenews.results(sort=True);\n",
        "'''\n",
        "Clear GoogleNews to do fresh search next time\n",
        "'''\n",
        "googlenews.clear()\n",
        "'''\n",
        "Print result\n",
        "'''\n",
        "results"
      ],
      "execution_count": null,
      "outputs": [
        {
          "output_type": "stream",
          "text": [
            "'<' not supported between instances of 'NoneType' and 'datetime.datetime'\n"
          ],
          "name": "stdout"
        },
        {
          "output_type": "execute_result",
          "data": {
            "text/plain": [
              "[{'date': '19 mins ago',\n",
              "  'datetime': None,\n",
              "  'desc': 'Global Machine Learning as a Service (MLaaS) Market Expected To Reach Highest CAGR By 2026: Microsoft, International Business Machine, Amazon Web Services, ...',\n",
              "  'img': 'data:image/gif;base64,R0lGODlhAQABAIAAAP///////yH5BAEKAAEALAAAAAABAAEAAAICTAEAOw==',\n",
              "  'link': 'https://domestic-violence.org.uk/coronavirus/84675/global-machine-learning-as-a-service-mlaas-market-expected-to-reach-highest-cagr-by-2026-microsoft-international-business-machine-amazon-web-services-google-bigml-etc/',\n",
              "  'media': '',\n",
              "  'title': 'Global Machine Learning as a Service (MLaaS) Market ...'},\n",
              " {'date': '28 mins ago',\n",
              "  'datetime': None,\n",
              "  'desc': 'A subset of artificial intelligence, machine learning is a process that helps computers to learn without direct instruction, and from experience. It does this ...',\n",
              "  'img': 'data:image/gif;base64,R0lGODlhAQABAIAAAP///////yH5BAEKAAEALAAAAAABAAEAAAICTAEAOw==',\n",
              "  'link': 'https://www.miragenews.com/how-will-machine-learning-change-science-605487/',\n",
              "  'media': 'Mirage News',\n",
              "  'title': 'How will machine learning change science?'},\n",
              " {'date': '30 mins ago',\n",
              "  'datetime': None,\n",
              "  'desc': 'AWS Neptune update: Machine learning, data science, and the future of graph databases. AWS Neptune just added another query language, openCypher, to its arsenal ...',\n",
              "  'img': 'data:image/gif;base64,R0lGODlhAQABAIAAAP///////yH5BAEKAAEALAAAAAABAAEAAAICTAEAOw==',\n",
              "  'link': 'https://www.zdnet.com/article/aws-neptune-update-machine-learning-data-science-and-the-future-of-graph-databases/',\n",
              "  'media': 'ZDNet',\n",
              "  'title': 'AWS Neptune update: Machine learning, data science, and ...'},\n",
              " {'date': '1 hour ago',\n",
              "  'datetime': datetime.datetime(2021, 7, 30, 11, 30, 39, 773274),\n",
              "  'desc': 'MIT Technology Review · Featured · Topics · Newsletters · Events · Podcasts · Sign in · Subscribe · Artificial intelligence/Machine learning ...',\n",
              "  'img': 'data:image/gif;base64,R0lGODlhAQABAIAAAP///////yH5BAEKAAEALAAAAAABAAEAAAICTAEAOw==',\n",
              "  'link': 'https://www.technologyreview.com/2021/07/30/1030329/machine-learning-ai-failed-covid-hospital-diagnosis-pandemic/',\n",
              "  'media': 'MIT Technology Review',\n",
              "  'title': 'Hundreds of AI tools have been built to catch covid. None of ...'},\n",
              " {'date': '1 hour ago',\n",
              "  'datetime': datetime.datetime(2021, 7, 30, 11, 30, 39, 771376),\n",
              "  'desc': 'Machine learning techniques can assist increase the security of any mobile device, making them acceptable as employee IDs and removing the need for easily ...',\n",
              "  'img': 'data:image/gif;base64,R0lGODlhAQABAIAAAP///////yH5BAEKAAEALAAAAAABAAEAAAICTAEAOw==',\n",
              "  'link': 'https://www.cioapplications.com/news/how-machine-learning-can-help-fight-against-phishing-attacks-nid-8177.html',\n",
              "  'media': 'CIO Applications',\n",
              "  'title': 'How Machine Learning can Help Fight Against Phishing Attacks'},\n",
              " {'date': '1 hour ago',\n",
              "  'datetime': datetime.datetime(2021, 7, 30, 11, 30, 39, 769513),\n",
              "  'desc': 'Wavicle Data Solutions Introduces Augment™, Its New Machine Learning-Powered Augmented Data Management Platform · Eliminates source and target database ...',\n",
              "  'img': 'data:image/gif;base64,R0lGODlhAQABAIAAAP///////yH5BAEKAAEALAAAAAABAAEAAAICTAEAOw==',\n",
              "  'link': 'https://aithority.com/technology/analytics/wavicle-data-solutions-introduces-augment-its-new-machine-learning-powered-augmented-data-management-platform/',\n",
              "  'media': 'AiThority.com',\n",
              "  'title': 'Wavicle Data Solutions Introduces Augment™, Its New ...'},\n",
              " {'date': '2 hours ago',\n",
              "  'datetime': datetime.datetime(2021, 7, 30, 10, 30, 39, 775000),\n",
              "  'desc': 'Machine Learning Courses Market Astonishing Growth with Top Influencing Key Players like EdX, Ivy Professional School, NobleProg, Udacity, Edvancer, Udemy, ...',\n",
              "  'img': 'data:image/gif;base64,R0lGODlhAQABAIAAAP///////yH5BAEKAAEALAAAAAABAAEAAAICTAEAOw==',\n",
              "  'link': 'https://theshotcaller.net/machine-learning-courses-market-astonishing-growth-with-top-influencing-key-players-like-edx-ivy-professional-school-nobleprog-udacity-edvancer-udemy-simplilearn/',\n",
              "  'media': '',\n",
              "  'title': 'Machine Learning Courses Market Astonishing Growth with ...'},\n",
              " {'date': '3 hours ago',\n",
              "  'datetime': datetime.datetime(2021, 7, 30, 9, 30, 39, 780331),\n",
              "  'desc': 'Machine Learning in Medicine Market Share by Top Manufacturers 2026: Google, Bio Beats, Jvion, Lumiata, DreaMed, Healint. Post author By anita; Post date 30th ...',\n",
              "  'img': 'data:image/gif;base64,R0lGODlhAQABAIAAAP///////yH5BAEKAAEALAAAAAABAAEAAAICTAEAOw==',\n",
              "  'link': 'https://domestic-violence.org.uk/uncategorised/74673/machine-learning-in-medicine-market-share-by-top-manufacturers-2026-google-bio-beats-jvion-lumiata-dreamed-healint/',\n",
              "  'media': '',\n",
              "  'title': 'Machine Learning in Medicine Market Share by Top ...'},\n",
              " {'date': '3 hours ago',\n",
              "  'datetime': datetime.datetime(2021, 7, 30, 9, 30, 39, 778594),\n",
              "  'desc': 'Trill A.I. MindTitan. Accenture ZestFinance … This study delves further into the basic points of view in Machine Learning in Finance, business aspects and ...',\n",
              "  'img': 'data:image/gif;base64,R0lGODlhAQABAIAAAP///////yH5BAEKAAEALAAAAAABAAEAAAICTAEAOw==',\n",
              "  'link': 'https://domestic-violence.org.uk/uncategorised/74745/machine-learning-in-finance-market-segment-by-companies-ignite-ltd-yodlee-trill-a-i-mindtitan-accenture-zestfinance/',\n",
              "  'media': '',\n",
              "  'title': 'Machine Learning in Finance Market Segment By Companies ...'},\n",
              " {'date': '3 hours ago',\n",
              "  'datetime': datetime.datetime(2021, 7, 30, 9, 30, 39, 776802),\n",
              "  'desc': 'Machine Learning in Manufacturing Market Size, Comprehensive Analysis 2021 by Vendors: Intel, IBM, Siemens, GE, Google ... ” A thorough and reliable Machine ...',\n",
              "  'img': 'data:image/gif;base64,R0lGODlhAQABAIAAAP///////yH5BAEKAAEALAAAAAABAAEAAAICTAEAOw==',\n",
              "  'link': 'https://domestic-violence.org.uk/uncategorised/74749/machine-learning-in-manufacturing-market-size-comprehensive-analysis-2021-by-vendors-intel-ibm-siemens-ge-google/',\n",
              "  'media': '',\n",
              "  'title': 'Machine Learning in Manufacturing Market Size ...'}]"
            ]
          },
          "metadata": {
            "tags": []
          },
          "execution_count": 12
        }
      ]
    },
    {
      "cell_type": "code",
      "metadata": {
        "colab": {
          "base_uri": "https://localhost:8080/"
        },
        "id": "avNc-rdnYg2W",
        "outputId": "b6fb7fd1-42f5-46e1-f098-14589ca739f8"
      },
      "source": [
        "'''\n",
        "Print the title, description and URL of the news\n",
        "'''\n",
        "for result in results:\n",
        "  print('\\n\\nTITLE:', result['title'], '\\nDESC:', result['desc'], '\\nURL: ', result['link'])"
      ],
      "execution_count": null,
      "outputs": [
        {
          "output_type": "stream",
          "text": [
            "\n",
            "\n",
            "TITLE: USGC event tackles sustainability, cybersecurity \n",
            "DESC: Hogan Lovells partner and USGC general counsel Deen Kaplan followed Joraanstad, discussing cybersecurity and how it relates to the business of agriculture. \n",
            "URL:  https://www.world-grain.com/articles/15620-usgc-event-tackles-sustainability-cybersecurity\n",
            "\n",
            "\n",
            "TITLE: Cybersecurity in the new hybrid workplace \n",
            "DESC: Many businesses are navigating what this means for their infrastructure as a hybrid environment brings its own set of challenges for cybersecurity. \n",
            "URL:  https://betanews.com/2021/07/30/cybersecurity-in-hybrid-workplace/\n",
            "\n",
            "\n",
            "TITLE: Wellbeing team created at website performance and ... \n",
            "DESC: Leeds-based website performance and cybersecurity company RapidSpike has launched a dedicated wellbeing team to support its employee's mental health. \n",
            "URL:  https://www.businessupnorth.co.uk/wellbeing-team-created-at-website-performance-and-cybersecurity-specialists/\n",
            "\n",
            "\n",
            "TITLE: Fran Bromley-Norwood Selected as SynED's July National ... \n",
            "DESC: “Fran led the creation of K-12 cybersecurity pathways in Nevada,” said Dan Manson, Emeritus Professor of Computer Information Systems at California Polytechnic ... \n",
            "URL:  https://aithority.com/technology/education-and-research/fran-bromley-norwood-selected-as-syneds-july-national-cyberhero-for-advancing-cybersecurity-education-in-nevada/\n",
            "\n",
            "\n",
            "TITLE: 416 crores allocated this year to strengthen nation's ... \n",
            "DESC: The government revealed yesterday that over 6 lakh cybersecurity incidents were observed by the Indian Computer Emergency Response Team (CERT-In) in the ... \n",
            "URL:  https://www.medianama.com/2021/07/223-cybersecurity-measures-indian-government/\n",
            "\n",
            "\n",
            "TITLE: Biden memo, infrastructure deal deliver cybersecurity ... \n",
            "DESC: Preliminary cybersecurity performance goals due in September. The initial goals will be issued by the Department of Homeland Security (DHS) no later than ... \n",
            "URL:  https://www.csoonline.com/article/3627293/biden-memo-infrastructure-deal-deliver-cybersecurity-performance-goals-and-money.html\n",
            "\n",
            "\n",
            "TITLE: Are Businesses Coercing Staff Back Into the Office With ... \n",
            "DESC: In the first few months of the pandemic, cloud-based cybersecurity attacks increased by 630% with attackers making the most of the vulnerabilities of a ... \n",
            "URL:  https://www.cpomagazine.com/cyber-security/are-businesses-coercing-staff-back-into-the-office-with-extreme-cybersecurity-claims/\n",
            "\n",
            "\n",
            "TITLE: Analysis | The Cybersecurity 202: The Trump administration's ... \n",
            "DESC: The Cybersecurity 202: The Trump administration's top election defender is calling out Republicans who support the 'big lie'. \n",
            "URL:  https://www.washingtonpost.com/politics/2021/07/30/cybersecurity-202-trump-administrations-top-election-defender-is-calling-out-republicans-who-support-big-lie/\n",
            "\n",
            "\n",
            "TITLE: Experts Uncover Several C&C Servers Linked to WellMess ... \n",
            "DESC: Cybersecurity researchers on Friday unmasked new command-and-control (C2) infrastructure belonging to the Russian threat actor tracked as APT29, ... \n",
            "URL:  https://thehackernews.com/2021/07/experts-uncover-several-c-servers.html\n",
            "\n",
            "\n",
            "TITLE: Cybersecurity firms look for added skills as demand outpaces ... \n",
            "DESC: Cybersecurity firms are projected for strong job growth in the coming years, but like virtually every industry, it is also struggling to find the workers to ... \n",
            "URL:  https://www.bizjournals.com/wichita/news/2021/07/30/cybersecurity-hiring-skilled-workers.html\n"
          ],
          "name": "stdout"
        }
      ]
    }
  ]
}
