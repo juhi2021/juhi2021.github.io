{
  "nbformat": 4,
  "nbformat_minor": 0,
  "metadata": {
    "colab": {
      "name": "Loan Prediction.ipynb",
      "provenance": [],
      "collapsed_sections": [],
      "mount_file_id": "1v2ugrPlwP7Xf4NPju5t-vZcv_kch3can",
      "authorship_tag": "ABX9TyOcvs6Ghajbrl/9M6FTFXGF",
      "include_colab_link": true
    },
    "kernelspec": {
      "name": "python3",
      "display_name": "Python 3"
    },
    "language_info": {
      "name": "python"
    }
  },
  "cells": [
    {
      "cell_type": "markdown",
      "metadata": {
        "id": "view-in-github",
        "colab_type": "text"
      },
      "source": [
        "<a href=\"https://colab.research.google.com/github/juhi2021/juhi2021.github.io/blob/main/docs/Loan_Prediction.ipynb\" target=\"_parent\"><img src=\"https://colab.research.google.com/assets/colab-badge.svg\" alt=\"Open In Colab\"/></a>"
      ]
    },
    {
      "cell_type": "markdown",
      "metadata": {
        "id": "Kuc18lFQ2rng"
      },
      "source": [
        "# **Loan Prediction Case Study**"
      ]
    },
    {
      "cell_type": "markdown",
      "metadata": {
        "id": "PPAKnHGA2v5N"
      },
      "source": [
        "## **Define problem statement**\n",
        "\n",
        "**Problem Statement :** To create a model which can predict decide whether the applicant is suitable for the loan or in other words to approve or reject the loan application.\n",
        "\n",
        "**Output Target :** Loan_Status ('Y' means loan is approved and 'N' means loan is rejected)\n",
        "\n",
        "**Input predictors :** Gender, Married, Dependents, Education, Self_Employed, ApplicantIncome, CoApplicantIncome,LoanAmount, Loan_Amount_Term, Credit_History, Property_Area.\n",
        "\n",
        "**Solution :** To create a supervised ML classification model, as the target variable is categorical."
      ]
    },
    {
      "cell_type": "markdown",
      "metadata": {
        "id": "wH7UuTE12zHi"
      },
      "source": [
        "## **Load Data**"
      ]
    },
    {
      "cell_type": "markdown",
      "metadata": {
        "id": "J984e5mB21Lu"
      },
      "source": [
        "**Import libraries**"
      ]
    },
    {
      "cell_type": "code",
      "metadata": {
        "id": "iBjIOr3dBxRW",
        "colab": {
          "base_uri": "https://localhost:8080/"
        },
        "outputId": "a3a10f54-c0ec-4410-e771-99e02088e12e"
      },
      "source": [
        "#import pandas for loading the CSV file\n",
        "import pandas as pd\n",
        "\n",
        "#import numpy for maths\n",
        "import numpy as np\n",
        "\n",
        "# import seaborn for visualization\n",
        "import seaborn as sns\n",
        "\n",
        "from scipy import stats \n",
        "from sklearn import preprocessing\n",
        "from collections import Counter\n",
        "\n",
        "#import matplotlib for graphs\n",
        "import matplotlib.pyplot as plt\n",
        "\n",
        "#Feature selection library\n",
        "from sklearn.feature_selection import SelectKBest, chi2\n",
        "from sklearn.feature_selection import f_classif\n",
        "from sklearn.feature_selection import mutual_info_classif\n",
        "from sklearn.linear_model import LogisticRegression\n",
        "from sklearn.pipeline import Pipeline\n",
        "from sklearn.preprocessing import StandardScaler\n",
        "from sklearn.model_selection import KFold, cross_val_score\n",
        "from sklearn.metrics import accuracy_score, balanced_accuracy_score, classification_report, confusion_matrix\n",
        "\n",
        "#To visualise in the notebook\n",
        "%matplotlib inline\n",
        "\n",
        "sns.set_style('darkgrid')\n",
        "\n",
        "# import module\n",
        "from tabulate import tabulate\n",
        "\n",
        "# Mount google drive in google colab\n",
        "#from google.colab import drive\n",
        "#drive.mount('/content/drive')\n",
        "\n",
        "#to import the custom module after mounting the drive\n",
        "import sys\n",
        "sys.path.insert(0, '/content/drive/My Drive/Colab Notebooks')\n",
        "\n",
        "#custom library for data exploration\n",
        "from lib import explore_data as ed\n",
        "from lib.Model import Model"
      ],
      "execution_count": 1,
      "outputs": [
        {
          "output_type": "stream",
          "text": [
            "Hello you are in explore_data file\n"
          ],
          "name": "stdout"
        }
      ]
    },
    {
      "cell_type": "markdown",
      "metadata": {
        "id": "Py6NiHZutsmb"
      },
      "source": [
        "**Read CSV dataset into dataframe**"
      ]
    },
    {
      "cell_type": "code",
      "metadata": {
        "id": "EwPBGzWmCMAU"
      },
      "source": [
        "train_path = '/content/drive/MyDrive/Data/Loan Pred/train.csv'\n",
        "test_path = r'/content/drive/MyDrive/Data/Loan Pred/test.csv'\n",
        "\n",
        "train_df = pd.read_csv(train_path)\n",
        "test_df = pd.read_csv(test_path)"
      ],
      "execution_count": 2,
      "outputs": []
    },
    {
      "cell_type": "markdown",
      "metadata": {
        "id": "NRUMEmxL3E8c"
      },
      "source": [
        "**Check for duplicate rows and drop the duplicates**"
      ]
    },
    {
      "cell_type": "code",
      "metadata": {
        "colab": {
          "base_uri": "https://localhost:8080/"
        },
        "id": "axuXDQpC3EVC",
        "outputId": "9eb161bf-1f41-4ed4-890e-6c0b1827702c"
      },
      "source": [
        "print(\"Number of duplicate rows {}\".format(train_df[train_df.duplicated()].shape[0]))\n",
        "#drop the duplicates\n",
        "train_df.drop_duplicates(inplace=True)\n",
        "print(\"Number of records after duplicate removal {}\".format(train_df.shape[0]))"
      ],
      "execution_count": 3,
      "outputs": [
        {
          "output_type": "stream",
          "text": [
            "Number of duplicate rows 0\n",
            "Number of records after duplicate removal 614\n"
          ],
          "name": "stdout"
        }
      ]
    },
    {
      "cell_type": "markdown",
      "metadata": {
        "id": "rtLd3r_X3KSC"
      },
      "source": [
        "**Define target**"
      ]
    },
    {
      "cell_type": "code",
      "metadata": {
        "colab": {
          "base_uri": "https://localhost:8080/"
        },
        "id": "Xv7rrAUO3MWe",
        "outputId": "a6e7f967-8692-4bb3-e56f-3e7321650109"
      },
      "source": [
        "target_var = 'Loan_Status'\n",
        "y = pd.DataFrame(train_df[target_var])\n",
        "print(\"The target variable is '\\033[1m{}'\\033[1m\".format(target_var))"
      ],
      "execution_count": 4,
      "outputs": [
        {
          "output_type": "stream",
          "text": [
            "The target variable is '\u001b[1mLoan_Status'\u001b[1m\n"
          ],
          "name": "stdout"
        }
      ]
    },
    {
      "cell_type": "markdown",
      "metadata": {
        "id": "CD_OiKeF3PBI"
      },
      "source": [
        "## **Exploratory Data Analysis (EDA)**"
      ]
    },
    {
      "cell_type": "markdown",
      "metadata": {
        "id": "t5pk4HZU3RHa"
      },
      "source": [
        "### **Basic Data Exploration**"
      ]
    },
    {
      "cell_type": "markdown",
      "metadata": {
        "id": "6TS6u2i73Tt2"
      },
      "source": [
        "\n",
        "\n",
        "---\n",
        "\n",
        "**Observe data**\n",
        "\n",
        "---\n"
      ]
    },
    {
      "cell_type": "markdown",
      "metadata": {
        "id": "1QGBNXN13WJj"
      },
      "source": [
        "**Number of rows and columns**"
      ]
    },
    {
      "cell_type": "code",
      "metadata": {
        "colab": {
          "base_uri": "https://localhost:8080/"
        },
        "id": "oCDGw5wt3YYI",
        "outputId": "8f7f88e8-c75c-4b6f-9051-b30546a7c2ad"
      },
      "source": [
        "print(\"The dataset has {} rows × {} features including the target.\".format(train_df.shape[0],train_df.shape[1]))"
      ],
      "execution_count": 5,
      "outputs": [
        {
          "output_type": "stream",
          "text": [
            "The dataset has 614 rows × 13 features including the target.\n"
          ],
          "name": "stdout"
        }
      ]
    },
    {
      "cell_type": "markdown",
      "metadata": {
        "id": "yGr_nGze3a7S"
      },
      "source": [
        "**Data Types for the features**"
      ]
    },
    {
      "cell_type": "code",
      "metadata": {
        "colab": {
          "base_uri": "https://localhost:8080/"
        },
        "id": "Fm5fcbJk3ddj",
        "outputId": "ed3858b5-20fc-4143-dfcf-242573ab536a"
      },
      "source": [
        "train_df.info()"
      ],
      "execution_count": 6,
      "outputs": [
        {
          "output_type": "stream",
          "text": [
            "<class 'pandas.core.frame.DataFrame'>\n",
            "Int64Index: 614 entries, 0 to 613\n",
            "Data columns (total 13 columns):\n",
            " #   Column             Non-Null Count  Dtype  \n",
            "---  ------             --------------  -----  \n",
            " 0   Loan_ID            614 non-null    object \n",
            " 1   Gender             601 non-null    object \n",
            " 2   Married            611 non-null    object \n",
            " 3   Dependents         599 non-null    object \n",
            " 4   Education          614 non-null    object \n",
            " 5   Self_Employed      582 non-null    object \n",
            " 6   ApplicantIncome    614 non-null    int64  \n",
            " 7   CoapplicantIncome  614 non-null    float64\n",
            " 8   LoanAmount         592 non-null    float64\n",
            " 9   Loan_Amount_Term   600 non-null    float64\n",
            " 10  Credit_History     564 non-null    float64\n",
            " 11  Property_Area      614 non-null    object \n",
            " 12  Loan_Status        614 non-null    object \n",
            "dtypes: float64(4), int64(1), object(8)\n",
            "memory usage: 67.2+ KB\n"
          ],
          "name": "stdout"
        }
      ]
    },
    {
      "cell_type": "markdown",
      "metadata": {
        "id": "0iWnuhgYKy14"
      },
      "source": [
        "**Insight:** There are 3 types of independent Variables - Categorical, Ordinal & Numerical."
      ]
    },
    {
      "cell_type": "code",
      "metadata": {
        "id": "xzLMglBmELb6"
      },
      "source": [
        "#set the index for the concatenated dataset\n",
        "train_df = train_df.set_index(\"Loan_ID\")\n",
        "test_df = test_df.set_index(\"Loan_ID\")"
      ],
      "execution_count": 7,
      "outputs": []
    },
    {
      "cell_type": "markdown",
      "metadata": {
        "id": "OCk-ADWg3sjU"
      },
      "source": [
        "**Display sample data**\n",
        "*   Display the first 5 rows of the dataset along with the target\n",
        "*   Display the last 5 rows of the dataset along with the target "
      ]
    },
    {
      "cell_type": "code",
      "metadata": {
        "colab": {
          "base_uri": "https://localhost:8080/",
          "height": 273
        },
        "id": "kRSy_CLAC9AD",
        "outputId": "e243258a-e948-41b3-b72c-3da0bb9d96fb"
      },
      "source": [
        "train_df.head()"
      ],
      "execution_count": 8,
      "outputs": [
        {
          "output_type": "execute_result",
          "data": {
            "text/html": [
              "<div>\n",
              "<style scoped>\n",
              "    .dataframe tbody tr th:only-of-type {\n",
              "        vertical-align: middle;\n",
              "    }\n",
              "\n",
              "    .dataframe tbody tr th {\n",
              "        vertical-align: top;\n",
              "    }\n",
              "\n",
              "    .dataframe thead th {\n",
              "        text-align: right;\n",
              "    }\n",
              "</style>\n",
              "<table border=\"1\" class=\"dataframe\">\n",
              "  <thead>\n",
              "    <tr style=\"text-align: right;\">\n",
              "      <th></th>\n",
              "      <th>Gender</th>\n",
              "      <th>Married</th>\n",
              "      <th>Dependents</th>\n",
              "      <th>Education</th>\n",
              "      <th>Self_Employed</th>\n",
              "      <th>ApplicantIncome</th>\n",
              "      <th>CoapplicantIncome</th>\n",
              "      <th>LoanAmount</th>\n",
              "      <th>Loan_Amount_Term</th>\n",
              "      <th>Credit_History</th>\n",
              "      <th>Property_Area</th>\n",
              "      <th>Loan_Status</th>\n",
              "    </tr>\n",
              "    <tr>\n",
              "      <th>Loan_ID</th>\n",
              "      <th></th>\n",
              "      <th></th>\n",
              "      <th></th>\n",
              "      <th></th>\n",
              "      <th></th>\n",
              "      <th></th>\n",
              "      <th></th>\n",
              "      <th></th>\n",
              "      <th></th>\n",
              "      <th></th>\n",
              "      <th></th>\n",
              "      <th></th>\n",
              "    </tr>\n",
              "  </thead>\n",
              "  <tbody>\n",
              "    <tr>\n",
              "      <th>LP001002</th>\n",
              "      <td>Male</td>\n",
              "      <td>No</td>\n",
              "      <td>0</td>\n",
              "      <td>Graduate</td>\n",
              "      <td>No</td>\n",
              "      <td>5849</td>\n",
              "      <td>0.0</td>\n",
              "      <td>NaN</td>\n",
              "      <td>360.0</td>\n",
              "      <td>1.0</td>\n",
              "      <td>Urban</td>\n",
              "      <td>Y</td>\n",
              "    </tr>\n",
              "    <tr>\n",
              "      <th>LP001003</th>\n",
              "      <td>Male</td>\n",
              "      <td>Yes</td>\n",
              "      <td>1</td>\n",
              "      <td>Graduate</td>\n",
              "      <td>No</td>\n",
              "      <td>4583</td>\n",
              "      <td>1508.0</td>\n",
              "      <td>128.0</td>\n",
              "      <td>360.0</td>\n",
              "      <td>1.0</td>\n",
              "      <td>Rural</td>\n",
              "      <td>N</td>\n",
              "    </tr>\n",
              "    <tr>\n",
              "      <th>LP001005</th>\n",
              "      <td>Male</td>\n",
              "      <td>Yes</td>\n",
              "      <td>0</td>\n",
              "      <td>Graduate</td>\n",
              "      <td>Yes</td>\n",
              "      <td>3000</td>\n",
              "      <td>0.0</td>\n",
              "      <td>66.0</td>\n",
              "      <td>360.0</td>\n",
              "      <td>1.0</td>\n",
              "      <td>Urban</td>\n",
              "      <td>Y</td>\n",
              "    </tr>\n",
              "    <tr>\n",
              "      <th>LP001006</th>\n",
              "      <td>Male</td>\n",
              "      <td>Yes</td>\n",
              "      <td>0</td>\n",
              "      <td>Not Graduate</td>\n",
              "      <td>No</td>\n",
              "      <td>2583</td>\n",
              "      <td>2358.0</td>\n",
              "      <td>120.0</td>\n",
              "      <td>360.0</td>\n",
              "      <td>1.0</td>\n",
              "      <td>Urban</td>\n",
              "      <td>Y</td>\n",
              "    </tr>\n",
              "    <tr>\n",
              "      <th>LP001008</th>\n",
              "      <td>Male</td>\n",
              "      <td>No</td>\n",
              "      <td>0</td>\n",
              "      <td>Graduate</td>\n",
              "      <td>No</td>\n",
              "      <td>6000</td>\n",
              "      <td>0.0</td>\n",
              "      <td>141.0</td>\n",
              "      <td>360.0</td>\n",
              "      <td>1.0</td>\n",
              "      <td>Urban</td>\n",
              "      <td>Y</td>\n",
              "    </tr>\n",
              "  </tbody>\n",
              "</table>\n",
              "</div>"
            ],
            "text/plain": [
              "         Gender Married Dependents  ... Credit_History Property_Area  Loan_Status\n",
              "Loan_ID                             ...                                          \n",
              "LP001002   Male      No          0  ...            1.0         Urban            Y\n",
              "LP001003   Male     Yes          1  ...            1.0         Rural            N\n",
              "LP001005   Male     Yes          0  ...            1.0         Urban            Y\n",
              "LP001006   Male     Yes          0  ...            1.0         Urban            Y\n",
              "LP001008   Male      No          0  ...            1.0         Urban            Y\n",
              "\n",
              "[5 rows x 12 columns]"
            ]
          },
          "metadata": {
            "tags": []
          },
          "execution_count": 8
        }
      ]
    },
    {
      "cell_type": "code",
      "metadata": {
        "colab": {
          "base_uri": "https://localhost:8080/",
          "height": 256
        },
        "id": "AkEDaUyY3yqt",
        "outputId": "ea0f390f-0e0f-4fbc-efd8-8f1e9ea6eecb"
      },
      "source": [
        "train_df.tail()"
      ],
      "execution_count": 9,
      "outputs": [
        {
          "output_type": "execute_result",
          "data": {
            "text/html": [
              "<div>\n",
              "<style scoped>\n",
              "    .dataframe tbody tr th:only-of-type {\n",
              "        vertical-align: middle;\n",
              "    }\n",
              "\n",
              "    .dataframe tbody tr th {\n",
              "        vertical-align: top;\n",
              "    }\n",
              "\n",
              "    .dataframe thead th {\n",
              "        text-align: right;\n",
              "    }\n",
              "</style>\n",
              "<table border=\"1\" class=\"dataframe\">\n",
              "  <thead>\n",
              "    <tr style=\"text-align: right;\">\n",
              "      <th></th>\n",
              "      <th>Gender</th>\n",
              "      <th>Married</th>\n",
              "      <th>Dependents</th>\n",
              "      <th>Education</th>\n",
              "      <th>Self_Employed</th>\n",
              "      <th>ApplicantIncome</th>\n",
              "      <th>CoapplicantIncome</th>\n",
              "      <th>LoanAmount</th>\n",
              "      <th>Loan_Amount_Term</th>\n",
              "      <th>Credit_History</th>\n",
              "      <th>Property_Area</th>\n",
              "      <th>Loan_Status</th>\n",
              "    </tr>\n",
              "    <tr>\n",
              "      <th>Loan_ID</th>\n",
              "      <th></th>\n",
              "      <th></th>\n",
              "      <th></th>\n",
              "      <th></th>\n",
              "      <th></th>\n",
              "      <th></th>\n",
              "      <th></th>\n",
              "      <th></th>\n",
              "      <th></th>\n",
              "      <th></th>\n",
              "      <th></th>\n",
              "      <th></th>\n",
              "    </tr>\n",
              "  </thead>\n",
              "  <tbody>\n",
              "    <tr>\n",
              "      <th>LP002978</th>\n",
              "      <td>Female</td>\n",
              "      <td>No</td>\n",
              "      <td>0</td>\n",
              "      <td>Graduate</td>\n",
              "      <td>No</td>\n",
              "      <td>2900</td>\n",
              "      <td>0.0</td>\n",
              "      <td>71.0</td>\n",
              "      <td>360.0</td>\n",
              "      <td>1.0</td>\n",
              "      <td>Rural</td>\n",
              "      <td>Y</td>\n",
              "    </tr>\n",
              "    <tr>\n",
              "      <th>LP002979</th>\n",
              "      <td>Male</td>\n",
              "      <td>Yes</td>\n",
              "      <td>3+</td>\n",
              "      <td>Graduate</td>\n",
              "      <td>No</td>\n",
              "      <td>4106</td>\n",
              "      <td>0.0</td>\n",
              "      <td>40.0</td>\n",
              "      <td>180.0</td>\n",
              "      <td>1.0</td>\n",
              "      <td>Rural</td>\n",
              "      <td>Y</td>\n",
              "    </tr>\n",
              "    <tr>\n",
              "      <th>LP002983</th>\n",
              "      <td>Male</td>\n",
              "      <td>Yes</td>\n",
              "      <td>1</td>\n",
              "      <td>Graduate</td>\n",
              "      <td>No</td>\n",
              "      <td>8072</td>\n",
              "      <td>240.0</td>\n",
              "      <td>253.0</td>\n",
              "      <td>360.0</td>\n",
              "      <td>1.0</td>\n",
              "      <td>Urban</td>\n",
              "      <td>Y</td>\n",
              "    </tr>\n",
              "    <tr>\n",
              "      <th>LP002984</th>\n",
              "      <td>Male</td>\n",
              "      <td>Yes</td>\n",
              "      <td>2</td>\n",
              "      <td>Graduate</td>\n",
              "      <td>No</td>\n",
              "      <td>7583</td>\n",
              "      <td>0.0</td>\n",
              "      <td>187.0</td>\n",
              "      <td>360.0</td>\n",
              "      <td>1.0</td>\n",
              "      <td>Urban</td>\n",
              "      <td>Y</td>\n",
              "    </tr>\n",
              "    <tr>\n",
              "      <th>LP002990</th>\n",
              "      <td>Female</td>\n",
              "      <td>No</td>\n",
              "      <td>0</td>\n",
              "      <td>Graduate</td>\n",
              "      <td>Yes</td>\n",
              "      <td>4583</td>\n",
              "      <td>0.0</td>\n",
              "      <td>133.0</td>\n",
              "      <td>360.0</td>\n",
              "      <td>0.0</td>\n",
              "      <td>Semiurban</td>\n",
              "      <td>N</td>\n",
              "    </tr>\n",
              "  </tbody>\n",
              "</table>\n",
              "</div>"
            ],
            "text/plain": [
              "          Gender Married Dependents  ... Credit_History Property_Area  Loan_Status\n",
              "Loan_ID                              ...                                          \n",
              "LP002978  Female      No          0  ...            1.0         Rural            Y\n",
              "LP002979    Male     Yes         3+  ...            1.0         Rural            Y\n",
              "LP002983    Male     Yes          1  ...            1.0         Urban            Y\n",
              "LP002984    Male     Yes          2  ...            1.0         Urban            Y\n",
              "LP002990  Female      No          0  ...            0.0     Semiurban            N\n",
              "\n",
              "[5 rows x 12 columns]"
            ]
          },
          "metadata": {
            "tags": []
          },
          "execution_count": 9
        }
      ]
    },
    {
      "cell_type": "markdown",
      "metadata": {
        "id": "P59GD_Fv31in"
      },
      "source": [
        "---\n",
        "**Analyze Target**\n",
        "---"
      ]
    },
    {
      "cell_type": "markdown",
      "metadata": {
        "id": "Vlbf3tGC37lp"
      },
      "source": [
        "**Check descriptive statistics for the numeric data**"
      ]
    },
    {
      "cell_type": "code",
      "metadata": {
        "colab": {
          "base_uri": "https://localhost:8080/",
          "height": 424
        },
        "id": "mlHjF1Le3939",
        "outputId": "9b5c3bb6-d85d-47e1-8087-922f8a983778"
      },
      "source": [
        "train_df.describe().append([train_df.select_dtypes(exclude='object').mode().rename({0:'Mode'}, axis='index'), \n",
        "               train_df.skew().to_frame().swapaxes(1, 0).rename({0:'Skew'}, axis='index'),\n",
        "               train_df.kurt().to_frame().swapaxes(1, 0).rename({0:'Kurt'}, axis='index'),\n",
        "               (train_df.quantile(0.75) - train_df.quantile(0.25)).to_frame().swapaxes(1, 0).rename({0:'IQR'}, axis='index')]).round(2)"
      ],
      "execution_count": 10,
      "outputs": [
        {
          "output_type": "execute_result",
          "data": {
            "text/html": [
              "<div>\n",
              "<style scoped>\n",
              "    .dataframe tbody tr th:only-of-type {\n",
              "        vertical-align: middle;\n",
              "    }\n",
              "\n",
              "    .dataframe tbody tr th {\n",
              "        vertical-align: top;\n",
              "    }\n",
              "\n",
              "    .dataframe thead th {\n",
              "        text-align: right;\n",
              "    }\n",
              "</style>\n",
              "<table border=\"1\" class=\"dataframe\">\n",
              "  <thead>\n",
              "    <tr style=\"text-align: right;\">\n",
              "      <th></th>\n",
              "      <th>ApplicantIncome</th>\n",
              "      <th>CoapplicantIncome</th>\n",
              "      <th>LoanAmount</th>\n",
              "      <th>Loan_Amount_Term</th>\n",
              "      <th>Credit_History</th>\n",
              "    </tr>\n",
              "  </thead>\n",
              "  <tbody>\n",
              "    <tr>\n",
              "      <th>count</th>\n",
              "      <td>614.00</td>\n",
              "      <td>614.00</td>\n",
              "      <td>592.00</td>\n",
              "      <td>600.00</td>\n",
              "      <td>564.00</td>\n",
              "    </tr>\n",
              "    <tr>\n",
              "      <th>mean</th>\n",
              "      <td>5403.46</td>\n",
              "      <td>1621.25</td>\n",
              "      <td>146.41</td>\n",
              "      <td>342.00</td>\n",
              "      <td>0.84</td>\n",
              "    </tr>\n",
              "    <tr>\n",
              "      <th>std</th>\n",
              "      <td>6109.04</td>\n",
              "      <td>2926.25</td>\n",
              "      <td>85.59</td>\n",
              "      <td>65.12</td>\n",
              "      <td>0.36</td>\n",
              "    </tr>\n",
              "    <tr>\n",
              "      <th>min</th>\n",
              "      <td>150.00</td>\n",
              "      <td>0.00</td>\n",
              "      <td>9.00</td>\n",
              "      <td>12.00</td>\n",
              "      <td>0.00</td>\n",
              "    </tr>\n",
              "    <tr>\n",
              "      <th>25%</th>\n",
              "      <td>2877.50</td>\n",
              "      <td>0.00</td>\n",
              "      <td>100.00</td>\n",
              "      <td>360.00</td>\n",
              "      <td>1.00</td>\n",
              "    </tr>\n",
              "    <tr>\n",
              "      <th>50%</th>\n",
              "      <td>3812.50</td>\n",
              "      <td>1188.50</td>\n",
              "      <td>128.00</td>\n",
              "      <td>360.00</td>\n",
              "      <td>1.00</td>\n",
              "    </tr>\n",
              "    <tr>\n",
              "      <th>75%</th>\n",
              "      <td>5795.00</td>\n",
              "      <td>2297.25</td>\n",
              "      <td>168.00</td>\n",
              "      <td>360.00</td>\n",
              "      <td>1.00</td>\n",
              "    </tr>\n",
              "    <tr>\n",
              "      <th>max</th>\n",
              "      <td>81000.00</td>\n",
              "      <td>41667.00</td>\n",
              "      <td>700.00</td>\n",
              "      <td>480.00</td>\n",
              "      <td>1.00</td>\n",
              "    </tr>\n",
              "    <tr>\n",
              "      <th>Mode</th>\n",
              "      <td>2500.00</td>\n",
              "      <td>0.00</td>\n",
              "      <td>120.00</td>\n",
              "      <td>360.00</td>\n",
              "      <td>1.00</td>\n",
              "    </tr>\n",
              "    <tr>\n",
              "      <th>Skew</th>\n",
              "      <td>6.54</td>\n",
              "      <td>7.49</td>\n",
              "      <td>2.68</td>\n",
              "      <td>-2.36</td>\n",
              "      <td>-1.88</td>\n",
              "    </tr>\n",
              "    <tr>\n",
              "      <th>Kurt</th>\n",
              "      <td>60.54</td>\n",
              "      <td>84.96</td>\n",
              "      <td>10.40</td>\n",
              "      <td>6.67</td>\n",
              "      <td>1.55</td>\n",
              "    </tr>\n",
              "    <tr>\n",
              "      <th>IQR</th>\n",
              "      <td>2917.50</td>\n",
              "      <td>2297.25</td>\n",
              "      <td>68.00</td>\n",
              "      <td>0.00</td>\n",
              "      <td>0.00</td>\n",
              "    </tr>\n",
              "  </tbody>\n",
              "</table>\n",
              "</div>"
            ],
            "text/plain": [
              "       ApplicantIncome  CoapplicantIncome  ...  Loan_Amount_Term  Credit_History\n",
              "count           614.00             614.00  ...            600.00          564.00\n",
              "mean           5403.46            1621.25  ...            342.00            0.84\n",
              "std            6109.04            2926.25  ...             65.12            0.36\n",
              "min             150.00               0.00  ...             12.00            0.00\n",
              "25%            2877.50               0.00  ...            360.00            1.00\n",
              "50%            3812.50            1188.50  ...            360.00            1.00\n",
              "75%            5795.00            2297.25  ...            360.00            1.00\n",
              "max           81000.00           41667.00  ...            480.00            1.00\n",
              "Mode           2500.00               0.00  ...            360.00            1.00\n",
              "Skew              6.54               7.49  ...             -2.36           -1.88\n",
              "Kurt             60.54              84.96  ...              6.67            1.55\n",
              "IQR            2917.50            2297.25  ...              0.00            0.00\n",
              "\n",
              "[12 rows x 5 columns]"
            ]
          },
          "metadata": {
            "tags": []
          },
          "execution_count": 10
        }
      ]
    },
    {
      "cell_type": "code",
      "metadata": {
        "colab": {
          "base_uri": "https://localhost:8080/",
          "height": 174
        },
        "id": "qRioz0bE4BV-",
        "outputId": "723bb7b5-528f-4027-b935-56777a9f9048"
      },
      "source": [
        "train_df.describe(include=['O'])"
      ],
      "execution_count": 11,
      "outputs": [
        {
          "output_type": "execute_result",
          "data": {
            "text/html": [
              "<div>\n",
              "<style scoped>\n",
              "    .dataframe tbody tr th:only-of-type {\n",
              "        vertical-align: middle;\n",
              "    }\n",
              "\n",
              "    .dataframe tbody tr th {\n",
              "        vertical-align: top;\n",
              "    }\n",
              "\n",
              "    .dataframe thead th {\n",
              "        text-align: right;\n",
              "    }\n",
              "</style>\n",
              "<table border=\"1\" class=\"dataframe\">\n",
              "  <thead>\n",
              "    <tr style=\"text-align: right;\">\n",
              "      <th></th>\n",
              "      <th>Gender</th>\n",
              "      <th>Married</th>\n",
              "      <th>Dependents</th>\n",
              "      <th>Education</th>\n",
              "      <th>Self_Employed</th>\n",
              "      <th>Property_Area</th>\n",
              "      <th>Loan_Status</th>\n",
              "    </tr>\n",
              "  </thead>\n",
              "  <tbody>\n",
              "    <tr>\n",
              "      <th>count</th>\n",
              "      <td>601</td>\n",
              "      <td>611</td>\n",
              "      <td>599</td>\n",
              "      <td>614</td>\n",
              "      <td>582</td>\n",
              "      <td>614</td>\n",
              "      <td>614</td>\n",
              "    </tr>\n",
              "    <tr>\n",
              "      <th>unique</th>\n",
              "      <td>2</td>\n",
              "      <td>2</td>\n",
              "      <td>4</td>\n",
              "      <td>2</td>\n",
              "      <td>2</td>\n",
              "      <td>3</td>\n",
              "      <td>2</td>\n",
              "    </tr>\n",
              "    <tr>\n",
              "      <th>top</th>\n",
              "      <td>Male</td>\n",
              "      <td>Yes</td>\n",
              "      <td>0</td>\n",
              "      <td>Graduate</td>\n",
              "      <td>No</td>\n",
              "      <td>Semiurban</td>\n",
              "      <td>Y</td>\n",
              "    </tr>\n",
              "    <tr>\n",
              "      <th>freq</th>\n",
              "      <td>489</td>\n",
              "      <td>398</td>\n",
              "      <td>345</td>\n",
              "      <td>480</td>\n",
              "      <td>500</td>\n",
              "      <td>233</td>\n",
              "      <td>422</td>\n",
              "    </tr>\n",
              "  </tbody>\n",
              "</table>\n",
              "</div>"
            ],
            "text/plain": [
              "       Gender Married Dependents  ... Self_Employed Property_Area Loan_Status\n",
              "count     601     611        599  ...           582           614         614\n",
              "unique      2       2          4  ...             2             3           2\n",
              "top      Male     Yes          0  ...            No     Semiurban           Y\n",
              "freq      489     398        345  ...           500           233         422\n",
              "\n",
              "[4 rows x 7 columns]"
            ]
          },
          "metadata": {
            "tags": []
          },
          "execution_count": 11
        }
      ]
    },
    {
      "cell_type": "markdown",
      "metadata": {
        "id": "4-sgA-dG4EDe"
      },
      "source": [
        "**Find the unique classes for the target variable**"
      ]
    },
    {
      "cell_type": "code",
      "metadata": {
        "colab": {
          "base_uri": "https://localhost:8080/",
          "height": 349
        },
        "id": "sERWIzoVuOOE",
        "outputId": "ba8461f4-d844-4316-a5d0-5fc0bf1b9069"
      },
      "source": [
        "print(\"The target value is an ordinal variable with possible values of {}\".format(sorted(train_df[target_var].unique())))\n",
        "target_cat_count = Counter(train_df[target_var])\n",
        "cat_y_count = target_cat_count['Y']\n",
        "cat_n_count = target_cat_count['N'];\n",
        "print(\"Count for category 'Y' is {}\".format(cat_y_count))\n",
        "print(\"Count for category 'N' is {}\".format(cat_n_count))\n",
        "\n",
        "print(\"Ratio of target variable categories (Y:N) is {}:{}\".format(round(cat_y_count/cat_n_count), round(cat_n_count/cat_n_count)))\n",
        "ax = sns.countplot(x=target_var, data=train_df)\n",
        "for p in ax.patches:\n",
        "  ax.annotate('{}={:.2f}%'.format(p.get_height(), p.get_height()/train_df.shape[0]*100), (p.get_x()+0.15, p.get_height()+1))"
      ],
      "execution_count": 12,
      "outputs": [
        {
          "output_type": "stream",
          "text": [
            "The target value is an ordinal variable with possible values of ['N', 'Y']\n",
            "Count for category 'Y' is 422\n",
            "Count for category 'N' is 192\n",
            "Ratio of target variable categories (Y:N) is 2:1\n"
          ],
          "name": "stdout"
        },
        {
          "output_type": "display_data",
          "data": {
            "image/png": "[encoded data removed]",
            "text/plain": [
              "<Figure size 432x288 with 1 Axes>"
            ]
          },
          "metadata": {
            "tags": [],
            "needs_background": "light"
          }
        }
      ]
    },
    {
      "cell_type": "markdown",
      "metadata": {
        "id": "5c43aeOLJFWM"
      },
      "source": [
        "**Insight :** The above data shows that there are few data points of the class '0' as compared to class '1'. Hence the dataset is slightly imbalanced. Since the ratio of the imbalance is 1:2, hence we can ignore this imbalance and the problem can often be treated like a normal classification predictive modeling problem."
      ]
    },
    {
      "cell_type": "markdown",
      "metadata": {
        "id": "I4JH2cXu4Q0L"
      },
      "source": [
        "---\n",
        "**Analyze input predictors**\n",
        "---"
      ]
    },
    {
      "cell_type": "markdown",
      "metadata": {
        "id": "3bczhJ7v4VDW"
      },
      "source": [
        "**List of numerical and categorical features**"
      ]
    },
    {
      "cell_type": "code",
      "metadata": {
        "colab": {
          "base_uri": "https://localhost:8080/"
        },
        "id": "CAXmLg-pDX2q",
        "outputId": "f065740d-a19b-406a-ca56-c59f27abbd40"
      },
      "source": [
        "# list of numerical variables\n",
        "num_feat = list(train_df.select_dtypes(exclude='object').columns)\n",
        "print('numerical variables: ', num_feat)\n",
        "\n",
        "dis_feat_threshold = 25\n",
        "dis_feat = [features for features in num_feat if len(train_df[features].unique())<dis_feat_threshold]\n",
        "print('discrete variables:', dis_feat)\n",
        "\n",
        "cont_feat = [feature for feature in num_feat if feature not in dis_feat]\n",
        "print('continuous variables:', cont_feat)\n",
        "\n",
        "# list of categorical variables\n",
        "cat_feat = list(train_df.select_dtypes(include='object').columns)\n",
        "print('categorical variables: ', cat_feat)"
      ],
      "execution_count": 13,
      "outputs": [
        {
          "output_type": "stream",
          "text": [
            "numerical variables:  ['ApplicantIncome', 'CoapplicantIncome', 'LoanAmount', 'Loan_Amount_Term', 'Credit_History']\n",
            "discrete variables: ['Loan_Amount_Term', 'Credit_History']\n",
            "continuous variables: ['ApplicantIncome', 'CoapplicantIncome', 'LoanAmount']\n",
            "categorical variables:  ['Gender', 'Married', 'Dependents', 'Education', 'Self_Employed', 'Property_Area', 'Loan_Status']\n"
          ],
          "name": "stdout"
        }
      ]
    },
    {
      "cell_type": "code",
      "metadata": {
        "colab": {
          "base_uri": "https://localhost:8080/"
        },
        "id": "I7ppfW5MGs6F",
        "outputId": "2ebc57af-2a3f-4bb6-ec08-508448f55b49"
      },
      "source": [
        "# import module\n",
        "from tabulate import tabulate\n",
        "\n",
        "#missing data\n",
        "null_total = train_df.isnull().sum().sort_values(ascending=False)\n",
        "null_percent = train_df.isnull().sum()/train_df.shape[0]*100\n",
        "null_percent = pd.concat([null_total, null_percent], axis=1, keys=['Total', 'Percent'])\n",
        "null_percent.head(20)\n",
        "print(tabulate(null_percent, headers=('Feature', 'Null Total', 'Null Percent')))"
      ],
      "execution_count": 14,
      "outputs": [
        {
          "output_type": "stream",
          "text": [
            "Feature              Null Total    Null Percent\n",
            "-----------------  ------------  --------------\n",
            "Credit_History               50        8.14332\n",
            "Self_Employed                32        5.21173\n",
            "LoanAmount                   22        3.58306\n",
            "Dependents                   15        2.443\n",
            "Loan_Amount_Term             14        2.28013\n",
            "Gender                       13        2.11726\n",
            "Married                       3        0.488599\n",
            "Loan_Status                   0        0\n",
            "Property_Area                 0        0\n",
            "CoapplicantIncome             0        0\n",
            "ApplicantIncome               0        0\n",
            "Education                     0        0\n"
          ],
          "name": "stdout"
        }
      ]
    },
    {
      "cell_type": "code",
      "metadata": {
        "colab": {
          "base_uri": "https://localhost:8080/"
        },
        "id": "dCGeqGMfh4WX",
        "outputId": "c568830d-46e1-4341-c2fe-55e95ff43510"
      },
      "source": [
        "null_threshold = 15\n",
        "col_for_drop = null_percent[null_percent>null_threshold].keys().tolist()\n",
        "print(\"Features with more than {}% of null values {}\".format(null_threshold, col_for_drop))"
      ],
      "execution_count": 15,
      "outputs": [
        {
          "output_type": "stream",
          "text": [
            "Features with more than 15% of null values ['Total', 'Percent']\n"
          ],
          "name": "stdout"
        }
      ]
    },
    {
      "cell_type": "code",
      "metadata": {
        "colab": {
          "base_uri": "https://localhost:8080/",
          "height": 297
        },
        "id": "kc3p3hEXGsZl",
        "outputId": "b3a87e66-f9cc-4e2c-b654-c90f07aba022"
      },
      "source": [
        "sns.countplot(x=target_var, data=train_df)"
      ],
      "execution_count": 16,
      "outputs": [
        {
          "output_type": "execute_result",
          "data": {
            "text/plain": [
              "<matplotlib.axes._subplots.AxesSubplot at 0x7f622a761fd0>"
            ]
          },
          "metadata": {
            "tags": []
          },
          "execution_count": 16
        },
        {
          "output_type": "display_data",
          "data": {
            "image/png": "[encoded data removed]",
            "text/plain": [
              "<Figure size 432x288 with 1 Axes>"
            ]
          },
          "metadata": {
            "tags": [],
            "needs_background": "light"
          }
        }
      ]
    },
    {
      "cell_type": "markdown",
      "metadata": {
        "id": "QbE1QYYYHHOC"
      },
      "source": [
        "## Uni-variate Analysis"
      ]
    },
    {
      "cell_type": "code",
      "metadata": {
        "colab": {
          "base_uri": "https://localhost:8080/",
          "height": 1000
        },
        "id": "rV5wgZAzHEFb",
        "outputId": "093a0a8b-ad60-4fab-fd28-7f74565457fa"
      },
      "source": [
        "plt = ed.plot_uni_num_data_analysis(train_df, target_var, num_feat, plt)\n",
        "plt.show()"
      ],
      "execution_count": 17,
      "outputs": [
        {
          "output_type": "display_data",
          "data": {
            "image/png": "[encoded data removed]",
            "text/plain": [
              "<Figure size 1080x1800 with 15 Axes>"
            ]
          },
          "metadata": {
            "tags": [],
            "needs_background": "light"
          }
        }
      ]
    },
    {
      "cell_type": "markdown",
      "metadata": {
        "id": "55VU6nnGc6NC"
      },
      "source": [
        "**Insight:**\n",
        "\n",
        "For Applicant Income feature:\n",
        "\n",
        "From Distribution plot:\n",
        "*   The data is highly negative or left skewed as the skewness is 6.54 (greater than +1)\n",
        "*   The data has high kurtosis value of 60.54 (>3)\n",
        "*   The data has heavy-tail or has lots of outliers.\n",
        "*   Have outliers and most of them are on the right/higher side.\n",
        "*   Therefore, the feature has non-normal distribution.\n",
        "\n",
        "From Box plot:\n",
        "*   Outliers are visible clearly.\n",
        "*   Outliers concentration more on right side.\n",
        "*   If the outliers are eliminated then the distribution is almost symmetric.\n",
        "\n",
        "From Scatter Plot:\n",
        "*   Most of the values are in 0-20000 range.\n",
        "*   Outlier values beyond 20000.\n",
        "\n",
        "\n",
        "\n",
        "\n"
      ]
    },
    {
      "cell_type": "code",
      "metadata": {
        "colab": {
          "base_uri": "https://localhost:8080/",
          "height": 878
        },
        "id": "LD6kWKOuJ0yg",
        "outputId": "d9c106d2-78d9-4cc8-f4ce-6deacf076c41"
      },
      "source": [
        "#Visualising categorical Data \n",
        "fig = plt.figure(figsize=(15, 15))\n",
        "\n",
        "fig_counter = 1\n",
        "no_of_cols = 2\n",
        "\n",
        "for feature in cat_feat:\n",
        "  ax = fig.add_subplot(np.ceil(len(cat_feat)/no_of_cols), no_of_cols, fig_counter)\n",
        "  sns.countplot(data=train_df, x=feature)\n",
        "  fig_counter =  fig_counter + 1\n",
        "  for p in ax.patches:\n",
        "    ax.annotate('{}={:.2f}%'.format(p.get_height(), p.get_height()/train_df.shape[0]*100), (p.get_x()+0.15, p.get_height()+1))"
      ],
      "execution_count": 18,
      "outputs": [
        {
          "output_type": "display_data",
          "data": {
            "image/png": "[encoded data removed]",
            "text/plain": [
              "<Figure size 1080x1080 with 7 Axes>"
            ]
          },
          "metadata": {
            "tags": [],
            "needs_background": "light"
          }
        }
      ]
    },
    {
      "cell_type": "markdown",
      "metadata": {
        "id": "9qpDZhLLbuH2"
      },
      "source": [
        "**Insight:** \n",
        "*   Around 80% of loan applicants are male.\n",
        "*   Nearly 65% are married.\n",
        "*   About 78% of loan applicants are graduates.\n",
        "*   Nearly 81% loan applicants are self-employed.\n",
        "*   The loan has been approved for more than 65% of applicants.\n",
        "*   Almost 56% of the applicants have no dependents.\n",
        "*   Highest number of applicants are from Semi Urban areas, followed by urban areas and the rural areas have the least number of applicants.\n"
      ]
    },
    {
      "cell_type": "markdown",
      "metadata": {
        "id": "0TFs0cd7isbS"
      },
      "source": [
        "## Bivariate Analysis"
      ]
    },
    {
      "cell_type": "code",
      "metadata": {
        "colab": {
          "base_uri": "https://localhost:8080/",
          "height": 878
        },
        "id": "l3QUzUG8lMbc",
        "outputId": "036486b8-f568-4a83-9781-b95fff76a4fb"
      },
      "source": [
        "#Visualising numeric feature against target variable\n",
        "fig = plt.figure(figsize=(15, 15))\n",
        "\n",
        "fig_counter = 1\n",
        "no_of_cols = 2\n",
        "\n",
        "for feature in num_feat:\n",
        "  ax = fig.add_subplot(np.ceil(len(num_feat)/no_of_cols), no_of_cols, fig_counter)\n",
        "  sns.boxplot(data=train_df, x=feature, y=target_var)\n",
        "  fig_counter =  fig_counter + 1"
      ],
      "execution_count": 20,
      "outputs": [
        {
          "output_type": "display_data",
          "data": {
            "image/png": "[encoded data removed]",
            "text/plain": [
              "<Figure size 1080x1080 with 5 Axes>"
            ]
          },
          "metadata": {
            "tags": [],
            "needs_background": "light"
          }
        }
      ]
    },
    {
      "cell_type": "markdown",
      "metadata": {
        "id": "k0b2hbXcfp6j"
      },
      "source": [
        "**Insight:**\n",
        "\n",
        "*   Applicant income, coapplicant's income and Loan_Amount does not affect the chances of loan approval (the median value is same for both Loan_Status and the boxes are in the same line).\n",
        "*   People with credit history as 1 are more likely to get  loans approved.\n",
        "\n",
        "\n"
      ]
    },
    {
      "cell_type": "code",
      "metadata": {
        "id": "vUSTrrrmnnyH",
        "colab": {
          "base_uri": "https://localhost:8080/",
          "height": 879
        },
        "outputId": "855b5ec8-1b2d-4ba8-d217-a387421a6ca1"
      },
      "source": [
        "## Lets Find the realtionship between categorical and target variables\n",
        "fig = plt.figure(figsize=(15, 15))\n",
        "\n",
        "fig_counter = 1\n",
        "no_of_cols = 2\n",
        "\n",
        "for feature in cat_feat:\n",
        "  ax = fig.add_subplot(np.ceil(len(cat_feat)/no_of_cols), no_of_cols, fig_counter)\n",
        "  #sns.boxplot(data=train_df, x=feature, y=target_var)\n",
        "  sns.countplot(hue=feature, x=target_var, data=train_df)\n",
        "  fig_counter =  fig_counter + 1"
      ],
      "execution_count": 21,
      "outputs": [
        {
          "output_type": "display_data",
          "data": {
            "image/png": "[encoded data removed]",
            "text/plain": [
              "<Figure size 1080x1080 with 7 Axes>"
            ]
          },
          "metadata": {
            "tags": [],
            "needs_background": "light"
          }
        }
      ]
    },
    {
      "cell_type": "markdown",
      "metadata": {
        "id": "NkrXr24Gi-zK"
      },
      "source": [
        "**Insight:**\n",
        "*   There is not a substantial difference between male and female approval rates. But overall males have more loan approval may be because they applyy more.\n",
        "*   Married applicants have a slightly higher chances of loan approval.\n",
        "*   Applicants with no dependents have higher chances of approval.\n",
        "*   Graduates have higher chance of loan approval compared to non-graduates.\n",
        "*   There is not a substantial difference between Self_Employed and not Self_Employed approval rates.\n",
        "*   More loans are approved in semiurban area.\n",
        "\n",
        "\n",
        "\n",
        "\n",
        "\n"
      ]
    },
    {
      "cell_type": "markdown",
      "metadata": {
        "id": "BgF34oZor_tk"
      },
      "source": [
        "**Converting Categorical to Numeric variables**"
      ]
    },
    {
      "cell_type": "code",
      "metadata": {
        "id": "2jrDMGoetLea"
      },
      "source": [
        "#Mapp the Y/N to 1/0 in the target variable column so that target becomes numeric and \n",
        "#we can find the correlation of the numeric variable to the converted numeric target variable\n",
        "target_map = {'Y':1,'N':0}\n",
        "train_df[target_var] = train_df[target_var].map(target_map).astype(int)\n",
        "y[target_var] = y[target_var].map(target_map).astype(int)"
      ],
      "execution_count": 22,
      "outputs": []
    },
    {
      "cell_type": "code",
      "metadata": {
        "id": "wqfk1PD1fMUM",
        "colab": {
          "base_uri": "https://localhost:8080/",
          "height": 369
        },
        "outputId": "d7747b8f-3c6a-45f6-d3eb-1ce4f2abc11c"
      },
      "source": [
        "## The relationship between features and target\n",
        "corr = train_df.corr()\n",
        "\n",
        "# Getting the Upper Triangle of the corelation matrix\n",
        "matrix = np.triu(corr)\n",
        "\n",
        "# using the upper triangle matrix as mask \n",
        "sns.heatmap(corr, annot=True, cmap ='coolwarm', linewidths=2, mask=matrix)"
      ],
      "execution_count": 23,
      "outputs": [
        {
          "output_type": "execute_result",
          "data": {
            "text/plain": [
              "<matplotlib.axes._subplots.AxesSubplot at 0x7f621d53fb50>"
            ]
          },
          "metadata": {
            "tags": []
          },
          "execution_count": 23
        },
        {
          "output_type": "display_data",
          "data": {
            "image/png": "[encoded data removed]",
            "text/plain": [
              "<Figure size 432x288 with 2 Axes>"
            ]
          },
          "metadata": {
            "tags": [],
            "needs_background": "light"
          }
        }
      ]
    },
    {
      "cell_type": "markdown",
      "metadata": {
        "id": "IYgkfNrgqavn"
      },
      "source": [
        "**Insight:**\n",
        "*   The features 'Loan_Amount', 'ApplicantIncome' and 'Loan_Status', 'Credit_History' has strong positive correlation (depicted by darker shades).\n",
        "*   There is almost no correlation between 'Loan_Status' and 'ApplicantIncome' (depicted by lighter shades).\n",
        "*   For feature 'Credit_History' correlation is almost zero against other features."
      ]
    },
    {
      "cell_type": "code",
      "metadata": {
        "id": "wvIJ0Bb0wf7z",
        "colab": {
          "base_uri": "https://localhost:8080/"
        },
        "outputId": "55505bd7-ae1a-4dcd-8fc3-65f4e4c43983"
      },
      "source": [
        "#Correlation of numeric variables with the target variable\n",
        "corr['Loan_Status']"
      ],
      "execution_count": 24,
      "outputs": [
        {
          "output_type": "execute_result",
          "data": {
            "text/plain": [
              "ApplicantIncome     -0.004710\n",
              "CoapplicantIncome   -0.059187\n",
              "LoanAmount          -0.037318\n",
              "Loan_Amount_Term    -0.021268\n",
              "Credit_History       0.561678\n",
              "Loan_Status          1.000000\n",
              "Name: Loan_Status, dtype: float64"
            ]
          },
          "metadata": {
            "tags": []
          },
          "execution_count": 24
        }
      ]
    },
    {
      "cell_type": "markdown",
      "metadata": {
        "id": "RFErFkj1rt7x"
      },
      "source": [
        "**Insight:** Credit_History is strongly correlated with the target variable 'Loan_Status'."
      ]
    },
    {
      "cell_type": "code",
      "metadata": {
        "id": "1IQG0AqjqD6B",
        "colab": {
          "base_uri": "https://localhost:8080/",
          "height": 297
        },
        "outputId": "5459f89f-f8a6-4497-bf02-2a16f7542ed5"
      },
      "source": [
        "#Discrete variables and target\n",
        "sns.countplot(x='Loan_Status', data=train_df, hue='Credit_History')"
      ],
      "execution_count": 25,
      "outputs": [
        {
          "output_type": "execute_result",
          "data": {
            "text/plain": [
              "<matplotlib.axes._subplots.AxesSubplot at 0x7f621d5a7e90>"
            ]
          },
          "metadata": {
            "tags": []
          },
          "execution_count": 25
        },
        {
          "output_type": "display_data",
          "data": {
            "image/png": "[encoded data removed]",
            "text/plain": [
              "<Figure size 432x288 with 1 Axes>"
            ]
          },
          "metadata": {
            "tags": [],
            "needs_background": "light"
          }
        }
      ]
    },
    {
      "cell_type": "markdown",
      "metadata": {
        "id": "i8LD77X1r8bC"
      },
      "source": [
        "**Insight:** Credit_History is strongly correlated with the target variable 'Loan_Status' as shown in graph above."
      ]
    },
    {
      "cell_type": "code",
      "metadata": {
        "id": "w6yTw1Cc44Ni",
        "colab": {
          "base_uri": "https://localhost:8080/",
          "height": 296
        },
        "outputId": "c7cc87e7-e6bc-4f4f-a0bd-7a11d1f31a14"
      },
      "source": [
        "sns.barplot(data=train_df, x='ApplicantIncome', y='Self_Employed', hue='Loan_Status')"
      ],
      "execution_count": 26,
      "outputs": [
        {
          "output_type": "execute_result",
          "data": {
            "text/plain": [
              "<matplotlib.axes._subplots.AxesSubplot at 0x7f6227f36550>"
            ]
          },
          "metadata": {
            "tags": []
          },
          "execution_count": 26
        },
        {
          "output_type": "display_data",
          "data": {
            "image/png": "[encoded data removed]",
            "text/plain": [
              "<Figure size 432x288 with 1 Axes>"
            ]
          },
          "metadata": {
            "tags": [],
            "needs_background": "light"
          }
        }
      ]
    },
    {
      "cell_type": "markdown",
      "metadata": {
        "id": "nvAvBmtXsLyB"
      },
      "source": [
        "**Insight:** Self_Employed and higher Income Applicants have higher chances for loan approval."
      ]
    },
    {
      "cell_type": "markdown",
      "metadata": {
        "id": "lROaVUcXyKge"
      },
      "source": [
        "## Data Processing"
      ]
    },
    {
      "cell_type": "markdown",
      "metadata": {
        "id": "cdz08f21t4Av"
      },
      "source": [
        "**Handle Missing values**\n",
        "*   Impute with MEDIAN for continuous variables.\n",
        "*   Impute with MODE for categorical variables.\n"
      ]
    },
    {
      "cell_type": "code",
      "metadata": {
        "id": "OsNC_N_I08iq"
      },
      "source": [
        "#Handle missing data in training dataset\n",
        "train_df['Gender'].fillna(value=train_df['Gender'].dropna().mode()[0], inplace=True)\n",
        "train_df['Married'].fillna(value=train_df['Married'].dropna().mode()[0], inplace=True)\n",
        "train_df['Dependents'].fillna(value='1', inplace=True) #since dtype is object\n",
        "train_df['Credit_History'].fillna(value=train_df['Credit_History'].dropna().mode()[0], inplace=True)\n",
        "train_df['Self_Employed'].fillna(value=train_df['Self_Employed'].dropna().mode()[0], inplace=True)\n",
        "train_df['LoanAmount'].fillna(value=train_df['LoanAmount'].dropna().mean(), inplace=True)\n",
        "train_df['Loan_Amount_Term'].fillna(value=0, inplace=True)"
      ],
      "execution_count": 27,
      "outputs": []
    },
    {
      "cell_type": "code",
      "metadata": {
        "id": "xzd-MSGqs26O"
      },
      "source": [
        "#Handle missing data in test_df\n",
        "test_df['Gender'].fillna(value=test_df['Gender'].dropna().mode()[0], inplace=True)\n",
        "test_df['Married'].fillna(value=test_df['Married'].dropna().mode()[0], inplace=True)\n",
        "test_df['Dependents'].fillna(value='1', inplace=True) #since dtype is object\n",
        "test_df['Credit_History'].fillna(value=test_df['Credit_History'].dropna().mode()[0], inplace=True)\n",
        "test_df['Self_Employed'].fillna(value=test_df['Self_Employed'].dropna().mode()[0], inplace=True)\n",
        "test_df['LoanAmount'].fillna(value=test_df['LoanAmount'].dropna().mean(), inplace=True)\n",
        "test_df['Loan_Amount_Term'].fillna(value=0, inplace=True)"
      ],
      "execution_count": 28,
      "outputs": []
    },
    {
      "cell_type": "code",
      "metadata": {
        "colab": {
          "base_uri": "https://localhost:8080/",
          "height": 424
        },
        "id": "ZA8WRPDVrNl5",
        "outputId": "be688607-3675-4dfe-aeec-e19a3d3b0799"
      },
      "source": [
        "#missing data\n",
        "null_total = train_df.isnull().sum().sort_values(ascending=False)\n",
        "null_percent = train_df.isnull().sum()/test_df.shape[0]*100\n",
        "null_percent = pd.concat([null_total, null_percent], axis=1, keys=['Total', 'Percent'])\n",
        "null_percent.head(20)"
      ],
      "execution_count": 29,
      "outputs": [
        {
          "output_type": "execute_result",
          "data": {
            "text/html": [
              "<div>\n",
              "<style scoped>\n",
              "    .dataframe tbody tr th:only-of-type {\n",
              "        vertical-align: middle;\n",
              "    }\n",
              "\n",
              "    .dataframe tbody tr th {\n",
              "        vertical-align: top;\n",
              "    }\n",
              "\n",
              "    .dataframe thead th {\n",
              "        text-align: right;\n",
              "    }\n",
              "</style>\n",
              "<table border=\"1\" class=\"dataframe\">\n",
              "  <thead>\n",
              "    <tr style=\"text-align: right;\">\n",
              "      <th></th>\n",
              "      <th>Total</th>\n",
              "      <th>Percent</th>\n",
              "    </tr>\n",
              "  </thead>\n",
              "  <tbody>\n",
              "    <tr>\n",
              "      <th>Loan_Status</th>\n",
              "      <td>0</td>\n",
              "      <td>0.0</td>\n",
              "    </tr>\n",
              "    <tr>\n",
              "      <th>Property_Area</th>\n",
              "      <td>0</td>\n",
              "      <td>0.0</td>\n",
              "    </tr>\n",
              "    <tr>\n",
              "      <th>Credit_History</th>\n",
              "      <td>0</td>\n",
              "      <td>0.0</td>\n",
              "    </tr>\n",
              "    <tr>\n",
              "      <th>Loan_Amount_Term</th>\n",
              "      <td>0</td>\n",
              "      <td>0.0</td>\n",
              "    </tr>\n",
              "    <tr>\n",
              "      <th>LoanAmount</th>\n",
              "      <td>0</td>\n",
              "      <td>0.0</td>\n",
              "    </tr>\n",
              "    <tr>\n",
              "      <th>CoapplicantIncome</th>\n",
              "      <td>0</td>\n",
              "      <td>0.0</td>\n",
              "    </tr>\n",
              "    <tr>\n",
              "      <th>ApplicantIncome</th>\n",
              "      <td>0</td>\n",
              "      <td>0.0</td>\n",
              "    </tr>\n",
              "    <tr>\n",
              "      <th>Self_Employed</th>\n",
              "      <td>0</td>\n",
              "      <td>0.0</td>\n",
              "    </tr>\n",
              "    <tr>\n",
              "      <th>Education</th>\n",
              "      <td>0</td>\n",
              "      <td>0.0</td>\n",
              "    </tr>\n",
              "    <tr>\n",
              "      <th>Dependents</th>\n",
              "      <td>0</td>\n",
              "      <td>0.0</td>\n",
              "    </tr>\n",
              "    <tr>\n",
              "      <th>Married</th>\n",
              "      <td>0</td>\n",
              "      <td>0.0</td>\n",
              "    </tr>\n",
              "    <tr>\n",
              "      <th>Gender</th>\n",
              "      <td>0</td>\n",
              "      <td>0.0</td>\n",
              "    </tr>\n",
              "  </tbody>\n",
              "</table>\n",
              "</div>"
            ],
            "text/plain": [
              "                   Total  Percent\n",
              "Loan_Status            0      0.0\n",
              "Property_Area          0      0.0\n",
              "Credit_History         0      0.0\n",
              "Loan_Amount_Term       0      0.0\n",
              "LoanAmount             0      0.0\n",
              "CoapplicantIncome      0      0.0\n",
              "ApplicantIncome        0      0.0\n",
              "Self_Employed          0      0.0\n",
              "Education              0      0.0\n",
              "Dependents             0      0.0\n",
              "Married                0      0.0\n",
              "Gender                 0      0.0"
            ]
          },
          "metadata": {
            "tags": []
          },
          "execution_count": 29
        }
      ]
    },
    {
      "cell_type": "markdown",
      "metadata": {
        "id": "Cih6MNqFvF5c"
      },
      "source": [
        "**Insight:** No more missing data."
      ]
    },
    {
      "cell_type": "markdown",
      "metadata": {
        "id": "claFSaeMvPif"
      },
      "source": [
        "**Handle ordered categorical data**\n",
        "*   Use label encoding for ordered categorical data."
      ]
    },
    {
      "cell_type": "code",
      "metadata": {
        "id": "juCWI8KoMGCO",
        "colab": {
          "base_uri": "https://localhost:8080/"
        },
        "outputId": "3a6bed0f-7a52-4ef1-e5f3-e3e7c0d82822"
      },
      "source": [
        "cat_feat_le = cat_feat.copy()\n",
        "print(\"Feature for label encoding are {}\".format(cat_feat_le))\n",
        "#remove the dependents feature as it will be One Hot Encoded later\n",
        "cat_feat_le.remove('Dependents')\n",
        "\n",
        "#Applying label encoding\n",
        "def label_encoding(dataset, columns):\n",
        "    label_encoder = preprocessing.LabelEncoder()\n",
        "    for col in columns:\n",
        "        dataset[col] = label_encoder.fit_transform(dataset[col])\n",
        "        dataset[col].astype(int)\n",
        "    return dataset\n",
        "\n",
        "#Convert all categorical variables to number\n",
        "train_df = label_encoding(train_df, cat_feat_le)\n",
        "\n",
        "cat_feat_le.remove('Loan_Status')\n",
        "#Convert all categorical variables to number for test df\n",
        "test_df = label_encoding(test_df, cat_feat_le)"
      ],
      "execution_count": 30,
      "outputs": [
        {
          "output_type": "stream",
          "text": [
            "Feature for label encoding are ['Gender', 'Married', 'Dependents', 'Education', 'Self_Employed', 'Property_Area', 'Loan_Status']\n"
          ],
          "name": "stdout"
        }
      ]
    },
    {
      "cell_type": "code",
      "metadata": {
        "colab": {
          "base_uri": "https://localhost:8080/"
        },
        "id": "heU4Qrxdz3HZ",
        "outputId": "af86331d-76fb-4567-c387-2ec76d6a478b"
      },
      "source": [
        "train_df['Dependents'].unique()"
      ],
      "execution_count": 31,
      "outputs": [
        {
          "output_type": "execute_result",
          "data": {
            "text/plain": [
              "array(['0', '1', '2', '3+'], dtype=object)"
            ]
          },
          "metadata": {
            "tags": []
          },
          "execution_count": 31
        }
      ]
    },
    {
      "cell_type": "code",
      "metadata": {
        "id": "Vxuow1w1u8KQ",
        "colab": {
          "base_uri": "https://localhost:8080/"
        },
        "outputId": "1347c327-1aaa-4f7a-d5d7-3ac8e4ce39c7"
      },
      "source": [
        "#Handle Dependents as '0' - no dependents and '1' - has dependents\n",
        "print(\"Unique terms before for dependents are {}\".format( train_df['Dependents'].unique()))\n",
        "train_df['Dependents'] = train_df['Dependents'].map( {'0': 0, '1': 1, '2':1, '3+':1}).astype(int)\n",
        "test_df['Dependents'] = test_df['Dependents'].map( {'0': 0, '1': 1, '2':1, '3+':1}).astype(int)\n",
        "print(\"Unique terms after for dependents are {}\".format( train_df['Dependents'].unique()))"
      ],
      "execution_count": 32,
      "outputs": [
        {
          "output_type": "stream",
          "text": [
            "Unique terms before for dependents are ['0' '1' '2' '3+']\n",
            "Unique terms after for dependents are [0 1]\n"
          ],
          "name": "stdout"
        }
      ]
    },
    {
      "cell_type": "code",
      "metadata": {
        "colab": {
          "base_uri": "https://localhost:8080/"
        },
        "id": "IRzs83Mn0GYi",
        "outputId": "bbccbb1c-3a59-45e3-8a78-376a7c47be67"
      },
      "source": [
        "train_df['Loan_Amount_Term'].unique()"
      ],
      "execution_count": 33,
      "outputs": [
        {
          "output_type": "execute_result",
          "data": {
            "text/plain": [
              "array([360., 120., 240.,   0., 180.,  60., 300., 480.,  36.,  84.,  12.])"
            ]
          },
          "metadata": {
            "tags": []
          },
          "execution_count": 33
        }
      ]
    },
    {
      "cell_type": "code",
      "metadata": {
        "colab": {
          "base_uri": "https://localhost:8080/"
        },
        "id": "uKXueo0h1Fob",
        "outputId": "fe0b5d8c-bb26-4be1-f602-418371eea312"
      },
      "source": [
        "#Since Loan_Amount_Term is max for '360' we handle this column\n",
        "#as '1' - has term as 360 and '0' - has term other than 360\n",
        "#Handle for training data\n",
        "train_df['Loan_Amount_Term'] = [1 if (train_df['Loan_Amount_Term'][index]==360) else 0 for index, value in train_df['Loan_Amount_Term'].items() ]\n",
        "train_df['Loan_Amount_Term'].astype(int)\n",
        "train_df['Credit_History'] = train_df['Credit_History'].astype(int)\n",
        "\n",
        "#Similarly, handling coapplicant income as '1' - has coapplicant income and '0' - no coapplicant income\n",
        "train_df['CoapplicantIncome'] = [0 if (train_df['CoapplicantIncome'][index]==0) else 1 for index, value in train_df['CoapplicantIncome'].items() ]\n",
        "train_df['CoapplicantIncome'].astype(int)\n",
        "print(\"Unique terms after for Loan_Amount_Term are {}\".format( train_df['Loan_Amount_Term'].unique()))"
      ],
      "execution_count": 34,
      "outputs": [
        {
          "output_type": "stream",
          "text": [
            "Unique terms after for Loan_Amount_Term are [1 0]\n"
          ],
          "name": "stdout"
        }
      ]
    },
    {
      "cell_type": "code",
      "metadata": {
        "colab": {
          "base_uri": "https://localhost:8080/"
        },
        "id": "0zF_QZozcQBM",
        "outputId": "1cad3f90-533b-46a1-f424-af6bfc2170cd"
      },
      "source": [
        "#Handle for test data\n",
        "test_df['Loan_Amount_Term'] = [1 if (test_df['Loan_Amount_Term'][index]==360) else 0 for index, value in test_df['Loan_Amount_Term'].items() ]\n",
        "test_df['Loan_Amount_Term'].astype(int)\n",
        "test_df['Credit_History'] = test_df['Credit_History'].astype(int)\n",
        "test_df['CoapplicantIncome'] = [0 if (test_df['CoapplicantIncome'][index]==0) else 1 for index, value in test_df['CoapplicantIncome'].items() ]\n",
        "test_df['CoapplicantIncome'].astype(int) \n",
        "print(\"Unique terms after for Loan_Amount_Term are {}\".format( train_df['Loan_Amount_Term'].unique()))"
      ],
      "execution_count": 35,
      "outputs": [
        {
          "output_type": "stream",
          "text": [
            "Unique terms after for Loan_Amount_Term are [1 0]\n"
          ],
          "name": "stdout"
        }
      ]
    },
    {
      "cell_type": "markdown",
      "metadata": {
        "id": "r1w88U43xOHe"
      },
      "source": [
        "**Handle non-ordered categorical data**\n",
        "*   Use One Hot encoding for non-ordered categorical data."
      ]
    },
    {
      "cell_type": "code",
      "metadata": {
        "colab": {
          "base_uri": "https://localhost:8080/",
          "height": 131
        },
        "id": "eDvuaaS17Z_V",
        "outputId": "235b78f1-06f9-46f8-dde8-ab10f1a77d15"
      },
      "source": [
        "#categorical features not ordinal for one hot encoding\n",
        "cat_feat_ohe = ['Property_Area']\n",
        "df_ohe = pd.DataFrame(train_df[cat_feat_ohe])\n",
        "\n",
        "from sklearn.preprocessing import OneHotEncoder\n",
        "\n",
        "# Apply one-hot encoder to each column with categorical data\n",
        "OH_encoder = OneHotEncoder(handle_unknown='ignore', sparse=False)\n",
        "\n",
        "#[array(['Female', 'Male'], dtype=object), array([1, 2, 3], dtype=object)]\n",
        "OH_cols = pd.DataFrame(OH_encoder.fit_transform(df_ohe))\n",
        "\n",
        "# One-hot encoding removed index; put it back\n",
        "OH_cols.index = df_ohe.index\n",
        "OH_cols.columns = OH_encoder.get_feature_names()\n",
        "\n",
        "# Remove categorical columns (will replace with one-hot encoding)\n",
        "num_X_train = train_df.drop(df_ohe, axis=1)\n",
        "\n",
        "#OH_cols_train = pd.DataFrame(X, columns = [\"Country_\"+str(int(i)) for i in range(data.shape[1])]) \n",
        "\n",
        "# Add one-hot encoded columns to numerical features\n",
        "OH_cols = OH_cols.astype(int)\n",
        "OH_X_train = pd.concat([num_X_train, OH_cols], axis=1)\n",
        "\n",
        "train_df = OH_X_train\n",
        "train_df.head(1)"
      ],
      "execution_count": 36,
      "outputs": [
        {
          "output_type": "execute_result",
          "data": {
            "text/html": [
              "<div>\n",
              "<style scoped>\n",
              "    .dataframe tbody tr th:only-of-type {\n",
              "        vertical-align: middle;\n",
              "    }\n",
              "\n",
              "    .dataframe tbody tr th {\n",
              "        vertical-align: top;\n",
              "    }\n",
              "\n",
              "    .dataframe thead th {\n",
              "        text-align: right;\n",
              "    }\n",
              "</style>\n",
              "<table border=\"1\" class=\"dataframe\">\n",
              "  <thead>\n",
              "    <tr style=\"text-align: right;\">\n",
              "      <th></th>\n",
              "      <th>Gender</th>\n",
              "      <th>Married</th>\n",
              "      <th>Dependents</th>\n",
              "      <th>Education</th>\n",
              "      <th>Self_Employed</th>\n",
              "      <th>ApplicantIncome</th>\n",
              "      <th>CoapplicantIncome</th>\n",
              "      <th>LoanAmount</th>\n",
              "      <th>Loan_Amount_Term</th>\n",
              "      <th>Credit_History</th>\n",
              "      <th>Loan_Status</th>\n",
              "      <th>x0_0</th>\n",
              "      <th>x0_1</th>\n",
              "      <th>x0_2</th>\n",
              "    </tr>\n",
              "    <tr>\n",
              "      <th>Loan_ID</th>\n",
              "      <th></th>\n",
              "      <th></th>\n",
              "      <th></th>\n",
              "      <th></th>\n",
              "      <th></th>\n",
              "      <th></th>\n",
              "      <th></th>\n",
              "      <th></th>\n",
              "      <th></th>\n",
              "      <th></th>\n",
              "      <th></th>\n",
              "      <th></th>\n",
              "      <th></th>\n",
              "      <th></th>\n",
              "    </tr>\n",
              "  </thead>\n",
              "  <tbody>\n",
              "    <tr>\n",
              "      <th>LP001002</th>\n",
              "      <td>1</td>\n",
              "      <td>0</td>\n",
              "      <td>0</td>\n",
              "      <td>0</td>\n",
              "      <td>0</td>\n",
              "      <td>5849</td>\n",
              "      <td>0</td>\n",
              "      <td>146.412162</td>\n",
              "      <td>1</td>\n",
              "      <td>1</td>\n",
              "      <td>1</td>\n",
              "      <td>0</td>\n",
              "      <td>0</td>\n",
              "      <td>1</td>\n",
              "    </tr>\n",
              "  </tbody>\n",
              "</table>\n",
              "</div>"
            ],
            "text/plain": [
              "          Gender  Married  Dependents  Education  ...  Loan_Status  x0_0  x0_1  x0_2\n",
              "Loan_ID                                           ...                               \n",
              "LP001002       1        0           0          0  ...            1     0     0     1\n",
              "\n",
              "[1 rows x 14 columns]"
            ]
          },
          "metadata": {
            "tags": []
          },
          "execution_count": 36
        }
      ]
    },
    {
      "cell_type": "code",
      "metadata": {
        "colab": {
          "base_uri": "https://localhost:8080/",
          "height": 131
        },
        "id": "zIChw36w_PS0",
        "outputId": "154892a8-c3f3-4ab3-ad08-bc4162c5a2a5"
      },
      "source": [
        "#categorical features not ordinal for one hot encoding for testing\n",
        "cat_feat_ohe = ['Property_Area']\n",
        "df_ohe = pd.DataFrame(test_df[cat_feat_ohe])\n",
        "\n",
        "from sklearn.preprocessing import OneHotEncoder\n",
        "\n",
        "# Apply one-hot encoder to each column with categorical data\n",
        "OH_encoder = OneHotEncoder(handle_unknown='ignore', sparse=False)\n",
        "\n",
        "#[array(['Female', 'Male'], dtype=object), array([1, 2, 3], dtype=object)]\n",
        "OH_cols = pd.DataFrame(OH_encoder.fit_transform(df_ohe))\n",
        "\n",
        "# One-hot encoding removed index; put it back\n",
        "OH_cols.index = df_ohe.index\n",
        "OH_cols.columns = OH_encoder.get_feature_names()\n",
        "\n",
        "# Remove categorical columns (will replace with one-hot encoding)\n",
        "num_X_train = test_df.drop(df_ohe, axis=1)\n",
        "\n",
        "#OH_cols_train = pd.DataFrame(X, columns = [\"Country_\"+str(int(i)) for i in range(data.shape[1])]) \n",
        "\n",
        "# Add one-hot encoded columns to numerical features\n",
        "OH_cols = OH_cols.astype(int)\n",
        "OH_X_train = pd.concat([num_X_train, OH_cols], axis=1)\n",
        "\n",
        "test_df = OH_X_train\n",
        "test_df.head(1)"
      ],
      "execution_count": 37,
      "outputs": [
        {
          "output_type": "execute_result",
          "data": {
            "text/html": [
              "<div>\n",
              "<style scoped>\n",
              "    .dataframe tbody tr th:only-of-type {\n",
              "        vertical-align: middle;\n",
              "    }\n",
              "\n",
              "    .dataframe tbody tr th {\n",
              "        vertical-align: top;\n",
              "    }\n",
              "\n",
              "    .dataframe thead th {\n",
              "        text-align: right;\n",
              "    }\n",
              "</style>\n",
              "<table border=\"1\" class=\"dataframe\">\n",
              "  <thead>\n",
              "    <tr style=\"text-align: right;\">\n",
              "      <th></th>\n",
              "      <th>Gender</th>\n",
              "      <th>Married</th>\n",
              "      <th>Dependents</th>\n",
              "      <th>Education</th>\n",
              "      <th>Self_Employed</th>\n",
              "      <th>ApplicantIncome</th>\n",
              "      <th>CoapplicantIncome</th>\n",
              "      <th>LoanAmount</th>\n",
              "      <th>Loan_Amount_Term</th>\n",
              "      <th>Credit_History</th>\n",
              "      <th>x0_0</th>\n",
              "      <th>x0_1</th>\n",
              "      <th>x0_2</th>\n",
              "    </tr>\n",
              "    <tr>\n",
              "      <th>Loan_ID</th>\n",
              "      <th></th>\n",
              "      <th></th>\n",
              "      <th></th>\n",
              "      <th></th>\n",
              "      <th></th>\n",
              "      <th></th>\n",
              "      <th></th>\n",
              "      <th></th>\n",
              "      <th></th>\n",
              "      <th></th>\n",
              "      <th></th>\n",
              "      <th></th>\n",
              "      <th></th>\n",
              "    </tr>\n",
              "  </thead>\n",
              "  <tbody>\n",
              "    <tr>\n",
              "      <th>LP001015</th>\n",
              "      <td>1</td>\n",
              "      <td>1</td>\n",
              "      <td>0</td>\n",
              "      <td>0</td>\n",
              "      <td>0</td>\n",
              "      <td>5720</td>\n",
              "      <td>0</td>\n",
              "      <td>110.0</td>\n",
              "      <td>1</td>\n",
              "      <td>1</td>\n",
              "      <td>0</td>\n",
              "      <td>0</td>\n",
              "      <td>1</td>\n",
              "    </tr>\n",
              "  </tbody>\n",
              "</table>\n",
              "</div>"
            ],
            "text/plain": [
              "          Gender  Married  Dependents  ...  x0_0  x0_1  x0_2\n",
              "Loan_ID                                ...                  \n",
              "LP001015       1        1           0  ...     0     0     1\n",
              "\n",
              "[1 rows x 13 columns]"
            ]
          },
          "metadata": {
            "tags": []
          },
          "execution_count": 37
        }
      ]
    },
    {
      "cell_type": "markdown",
      "metadata": {
        "id": "Bi97ene7qp_R"
      },
      "source": [
        "**Converting Categorical variables to category type**"
      ]
    },
    {
      "cell_type": "code",
      "metadata": {
        "colab": {
          "base_uri": "https://localhost:8080/"
        },
        "id": "6bwkn6fDqpVm",
        "outputId": "9e65b6ec-79ef-4670-9b5c-b368a688e9e7"
      },
      "source": [
        "train_df[['Gender', 'Married', 'Education', 'Self_Employed', 'CoapplicantIncome', 'Loan_Amount_Term']] = train_df[['Gender', 'Married', 'Education', 'Self_Employed', 'CoapplicantIncome', 'Loan_Amount_Term']].astype(int)\n",
        "test_df[['Gender', 'Married', 'Education', 'Self_Employed', 'CoapplicantIncome', 'Loan_Amount_Term']] = test_df[['Gender', 'Married', 'Education', 'Self_Employed', 'CoapplicantIncome', 'Loan_Amount_Term']].astype(int)\n",
        "train_df.info()"
      ],
      "execution_count": 38,
      "outputs": [
        {
          "output_type": "stream",
          "text": [
            "<class 'pandas.core.frame.DataFrame'>\n",
            "Index: 614 entries, LP001002 to LP002990\n",
            "Data columns (total 14 columns):\n",
            " #   Column             Non-Null Count  Dtype  \n",
            "---  ------             --------------  -----  \n",
            " 0   Gender             614 non-null    int64  \n",
            " 1   Married            614 non-null    int64  \n",
            " 2   Dependents         614 non-null    int64  \n",
            " 3   Education          614 non-null    int64  \n",
            " 4   Self_Employed      614 non-null    int64  \n",
            " 5   ApplicantIncome    614 non-null    int64  \n",
            " 6   CoapplicantIncome  614 non-null    int64  \n",
            " 7   LoanAmount         614 non-null    float64\n",
            " 8   Loan_Amount_Term   614 non-null    int64  \n",
            " 9   Credit_History     614 non-null    int64  \n",
            " 10  Loan_Status        614 non-null    int64  \n",
            " 11  x0_0               614 non-null    int64  \n",
            " 12  x0_1               614 non-null    int64  \n",
            " 13  x0_2               614 non-null    int64  \n",
            "dtypes: float64(1), int64(13)\n",
            "memory usage: 92.0+ KB\n"
          ],
          "name": "stdout"
        }
      ]
    },
    {
      "cell_type": "markdown",
      "metadata": {
        "id": "1qZNQRKD0hTi"
      },
      "source": [
        "---\n",
        "**Outliers Detection**\n",
        "---"
      ]
    },
    {
      "cell_type": "markdown",
      "metadata": {
        "id": "J7KzPb-50lJT"
      },
      "source": [
        "**Function to detect outliers using Tukey's method**"
      ]
    },
    {
      "cell_type": "code",
      "metadata": {
        "colab": {
          "base_uri": "https://localhost:8080/"
        },
        "id": "vjiAUYa-pzx4",
        "outputId": "22eeca2a-f548-46e8-f96b-eec53b4d1f26"
      },
      "source": [
        "# list of numerical variables\n",
        "num_feat = ['ApplicantIncome', 'CoapplicantIncome','LoanAmount']\n",
        "print('numerical variables: ', num_feat)"
      ],
      "execution_count": 39,
      "outputs": [
        {
          "output_type": "stream",
          "text": [
            "numerical variables:  ['ApplicantIncome', 'CoapplicantIncome', 'LoanAmount']\n"
          ],
          "name": "stdout"
        }
      ]
    },
    {
      "cell_type": "code",
      "metadata": {
        "id": "ADErXJnx0oDj"
      },
      "source": [
        "def detect_outliers(df, features, no_of_outlier_in_row, threshold=1.5):\n",
        "  \"\"\"\n",
        "  Input - dataframe of features \n",
        "  output - feature wise list of the indices and count\n",
        "  Procedure - Tukey method.\n",
        "  \"\"\"\n",
        "  outliers = []\n",
        "  \n",
        "  # iterate over features(columns)\n",
        "  for col in features:\n",
        "    # 1st quartile (25%)\n",
        "    Q1 = df[col].quantile(0.25)\n",
        "\n",
        "    # 3rd quartile (75%)\n",
        "    Q3 = df[col].quantile(0.75)\n",
        "\n",
        "    # Interquartile range (IQR)\n",
        "    IQR = Q3 - Q1\n",
        "    \n",
        "    # outlier step\n",
        "    outlier_step = threshold * IQR\n",
        "\n",
        "    #calculate lower limit\n",
        "    lower_limit = Q1 - outlier_step\n",
        "\n",
        "    #calculate upper limit\n",
        "    upper_limit = Q3 + outlier_step\n",
        "    \n",
        "    # Determine a list of indices of outliers for feature col\n",
        "    outlier_list_col = df[(df[col] < lower_limit) | \n",
        "                          (df[col] > upper_limit )].index\n",
        "    \n",
        "    if (len(outlier_list_col) > 0):\n",
        "      outliers.append({'Feature': col, 'No_of_outliers':len(outlier_list_col)})#, 'Outlier_rows':outlier_list_col})\n",
        "     \n",
        "  #print('Num of outlier detected:', outliers)\n",
        "\n",
        "  return outliers"
      ],
      "execution_count": 40,
      "outputs": []
    },
    {
      "cell_type": "code",
      "metadata": {
        "colab": {
          "base_uri": "https://localhost:8080/"
        },
        "id": "8Z76yjbM0rXt",
        "outputId": "2fd45f16-7642-49f0-d43e-1bff1fe85f54"
      },
      "source": [
        "# detect outliers from all numeric columns, this return the dictionary of indices and column number\n",
        "outliers = detect_outliers(train_df, num_feat, 0)\n",
        "\n",
        "print(tabulate(outliers))\n",
        "\n",
        "out_val = 0\n",
        "for ind, val in enumerate(outliers):\n",
        "  out_val += val.get('No_of_outliers')\n",
        "print(\"Total                 {}\".format(out_val))"
      ],
      "execution_count": 41,
      "outputs": [
        {
          "output_type": "stream",
          "text": [
            "---------------  --\n",
            "ApplicantIncome  50\n",
            "LoanAmount       41\n",
            "---------------  --\n",
            "Total                 91\n"
          ],
          "name": "stdout"
        }
      ]
    },
    {
      "cell_type": "markdown",
      "metadata": {
        "id": "-deStLr315Xn"
      },
      "source": [
        "**Outlier Treatment** \n",
        "\n",
        "Since data is left skewed, use log transformation which doesn't effect affect the smaller values much but reduces the larger values, thereby nullifying the effect of higher values and making the distribution normal.\n"
      ]
    },
    {
      "cell_type": "code",
      "metadata": {
        "id": "NsyV-VU-_kzq"
      },
      "source": [
        "# Perform log transformation of LoanAmount, ApplicantIncome to make it closer to normal for treating outliers\n",
        "train_df['LoanAmount'] = np.log1p(train_df['LoanAmount'])\n",
        "train_df['ApplicantIncome'] = np.log1p(train_df['ApplicantIncome']) "
      ],
      "execution_count": 42,
      "outputs": []
    },
    {
      "cell_type": "code",
      "metadata": {
        "colab": {
          "base_uri": "https://localhost:8080/",
          "height": 296
        },
        "id": "Flbjkniy4Hd9",
        "outputId": "bb4e1484-5919-4da4-e552-265f4c681251"
      },
      "source": [
        "# distribtion of LoanAmount, ApplicantIncome log\n",
        "sns.histplot(data=train_df, x='ApplicantIncome', bins=20)"
      ],
      "execution_count": 43,
      "outputs": [
        {
          "output_type": "execute_result",
          "data": {
            "text/plain": [
              "<matplotlib.axes._subplots.AxesSubplot at 0x7f621d5dfc90>"
            ]
          },
          "metadata": {
            "tags": []
          },
          "execution_count": 43
        },
        {
          "output_type": "display_data",
          "data": {
            "image/png": "[encoded data removed]",
            "text/plain": [
              "<Figure size 432x288 with 1 Axes>"
            ]
          },
          "metadata": {
            "tags": [],
            "needs_background": "light"
          }
        }
      ]
    },
    {
      "cell_type": "code",
      "metadata": {
        "colab": {
          "base_uri": "https://localhost:8080/",
          "height": 296
        },
        "id": "oJvxMG7n4D4Y",
        "outputId": "999a8ee6-6db8-4133-f43e-e278e1ae68c5"
      },
      "source": [
        "sns.histplot(data=train_df, x='LoanAmount', bins=20)"
      ],
      "execution_count": 44,
      "outputs": [
        {
          "output_type": "execute_result",
          "data": {
            "text/plain": [
              "<matplotlib.axes._subplots.AxesSubplot at 0x7f621d8093d0>"
            ]
          },
          "metadata": {
            "tags": []
          },
          "execution_count": 44
        },
        {
          "output_type": "display_data",
          "data": {
            "image/png": "[encoded data removed]",
            "text/plain": [
              "<Figure size 432x288 with 1 Axes>"
            ]
          },
          "metadata": {
            "tags": [],
            "needs_background": "light"
          }
        }
      ]
    },
    {
      "cell_type": "markdown",
      "metadata": {
        "id": "f3B_6M3MxCeC"
      },
      "source": [
        "**Insight:** \n",
        "Features LoanAmount and ApplicantIncome are now nearly normal."
      ]
    },
    {
      "cell_type": "code",
      "metadata": {
        "id": "eZIWhsaNAWaV"
      },
      "source": [
        "# Perform log transformation of LoanAmount, ApplicantIncome \n",
        "#to make it closer to normal for treating outliers ON test_df\n",
        "test_df['LoanAmount'] = np.log1p(test_df['LoanAmount'])\n",
        "test_df['ApplicantIncome'] = np.log1p(test_df['ApplicantIncome'])"
      ],
      "execution_count": 45,
      "outputs": []
    },
    {
      "cell_type": "markdown",
      "metadata": {
        "id": "HE4X03A_2p29"
      },
      "source": [
        "### **Feature Selection - Statistical analysis of features**"
      ]
    },
    {
      "cell_type": "markdown",
      "metadata": {
        "id": "ePoypSnF3QYY"
      },
      "source": [
        "**For numeric features using ANOVA**\n",
        "\n",
        "*   Null Hypothesis (H0) : There is no relation between the given feature and the target\n",
        "*   Alternate Hypothesis (H1) : There is relation between the given feature and the target"
      ]
    },
    {
      "cell_type": "code",
      "metadata": {
        "colab": {
          "base_uri": "https://localhost:8080/"
        },
        "id": "mkWX0VXL4akl",
        "outputId": "d58dda52-0507-48f3-c7a0-d35395462dc0"
      },
      "source": [
        "# split into input (X) and output (y) variables\n",
        "X = train_df.copy()\n",
        "X.drop(target_var, axis=1, inplace=True)\n",
        "y = y\n",
        "\n",
        "#features selected list\n",
        "sel_feat = []\n",
        "\n",
        "#configure to select all features\n",
        "fs = SelectKBest(score_func=f_classif, k='all')\n",
        "#learn relationship from training data\n",
        "fs.fit(X, y)\n",
        "\n",
        "print('##### ANOVA Test Results for Numeric Features ##### \\n')\n",
        "#check the p-values for the features\n",
        "for i in range(len(fs.pvalues_)):\n",
        "  p_value = fs.pvalues_[i]\n",
        "  feature = X.columns[i]\n",
        "  if(feature in num_feat):\n",
        "    #If the p-value is <0.05, reject H0\n",
        "    if (p_value < 0.05):\n",
        "      print(('Feature %s: is correlated with %s | P-Value: %f' % (feature, target_var, p_value)))\n",
        "      sel_feat.append(feature)\n",
        "    else:\n",
        "      print(('Feature %s: is NOT correlated with %s | P-Value: %f' % (feature, target_var, p_value)))\n",
        "      \n",
        "print('Features selected are : ', sel_feat)"
      ],
      "execution_count": 46,
      "outputs": [
        {
          "output_type": "stream",
          "text": [
            "##### ANOVA Test Results for Numeric Features ##### \n",
            "\n",
            "Feature ApplicantIncome: is NOT correlated with Loan_Status | P-Value: 0.786393\n",
            "Feature CoapplicantIncome: is NOT correlated with Loan_Status | P-Value: 0.062695\n",
            "Feature LoanAmount: is NOT correlated with Loan_Status | P-Value: 0.297269\n",
            "Features selected are :  []\n"
          ],
          "name": "stdout"
        },
        {
          "output_type": "stream",
          "text": [
            "/usr/local/lib/python3.7/dist-packages/sklearn/utils/validation.py:760: DataConversionWarning: A column-vector y was passed when a 1d array was expected. Please change the shape of y to (n_samples, ), for example using ravel().\n",
            "  y = column_or_1d(y, warn=True)\n"
          ],
          "name": "stderr"
        }
      ]
    },
    {
      "cell_type": "markdown",
      "metadata": {
        "id": "OkRjKh9aD3eA"
      },
      "source": [
        "**For categorical features using chi2**\n",
        "\n",
        "*   Null Hypothesis (H0) : There is no relation between the given feature and the target\n",
        "*   Alternate Hypothesis (H1) : There is relation between the given feature and the target"
      ]
    },
    {
      "cell_type": "code",
      "metadata": {
        "colab": {
          "base_uri": "https://localhost:8080/"
        },
        "id": "fQH0-YMK6Phf",
        "outputId": "7c68b511-8b6d-4754-d4f2-3034030ed7a6"
      },
      "source": [
        "# split into input (X) and output (y) variables\n",
        "X = train_df.copy()\n",
        "X.drop(target_var, axis=1, inplace=True)\n",
        "y = y\n",
        "\n",
        "#configure to select all features\n",
        "fs = SelectKBest(score_func=chi2, k='all')\n",
        "#learn relationship from training data\n",
        "fs.fit(X, y)\n",
        "\n",
        "print('##### chi2 Test Results for categorical Features ##### \\n')\n",
        "#check the p-values for the features\n",
        "for i in range(len(fs.pvalues_)):\n",
        "  p_value = fs.pvalues_[i]\n",
        "  feature = X.columns[i]\n",
        "  if(feature not in num_feat):\n",
        "    #If the p-value is <0.05, reject H0\n",
        "    if (p_value < 0.05):\n",
        "      print(('Feature %s: is correlated with %s | P-Value: %f' % (feature, target_var, p_value)))\n",
        "      sel_feat.append(feature)\n",
        "    else:\n",
        "      print(('Feature %s: is NOT correlated with %s | P-Value: %f' % (feature, target_var, p_value)))\n",
        "      \n",
        "print('\\nFeatures selected are : ', sel_feat)"
      ],
      "execution_count": 47,
      "outputs": [
        {
          "output_type": "stream",
          "text": [
            "##### chi2 Test Results for categorical Features ##### \n",
            "\n",
            "Feature Gender: is NOT correlated with Loan_Status | P-Value: 0.849032\n",
            "Feature Married: is NOT correlated with Loan_Status | P-Value: 0.181852\n",
            "Feature Dependents: is NOT correlated with Loan_Status | P-Value: 0.907577\n",
            "Feature Education: is NOT correlated with Loan_Status | P-Value: 0.059887\n",
            "Feature Self_Employed: is NOT correlated with Loan_Status | P-Value: 0.931982\n",
            "Feature Loan_Amount_Term: is NOT correlated with Loan_Status | P-Value: 0.498252\n",
            "Feature Credit_History: is correlated with Loan_Status | P-Value: 0.000000\n",
            "Feature x0_0: is correlated with Loan_Status | P-Value: 0.035717\n",
            "Feature x0_1: is correlated with Loan_Status | P-Value: 0.007695\n",
            "Feature x0_2: is NOT correlated with Loan_Status | P-Value: 0.375937\n",
            "\n",
            "Features selected are :  ['Credit_History', 'x0_0', 'x0_1']\n"
          ],
          "name": "stdout"
        }
      ]
    },
    {
      "cell_type": "markdown",
      "metadata": {
        "id": "37Oo3g1f4wJU"
      },
      "source": [
        "## **Machine Learning**"
      ]
    },
    {
      "cell_type": "markdown",
      "metadata": {
        "id": "yva8tZI64yRd"
      },
      "source": [
        "**Splitting the data into Training and Testing sample**"
      ]
    },
    {
      "cell_type": "code",
      "metadata": {
        "id": "S7nC1_MVBUgV"
      },
      "source": [
        "X = train_df[[feature for feature in sel_feat]]\n",
        "y = train_df['Loan_Status']\n",
        "\n",
        "# split dataset into train and test\n",
        "from sklearn.model_selection import train_test_split\n",
        "X_train, X_test, y_train, y_test = train_test_split(X, y, test_size = 0.2, random_state= 5)"
      ],
      "execution_count": 48,
      "outputs": []
    },
    {
      "cell_type": "markdown",
      "metadata": {
        "id": "TRyLvDnhQv2o"
      },
      "source": [
        "**Logistic Regression using Pipeline**"
      ]
    },
    {
      "cell_type": "code",
      "metadata": {
        "id": "YrdB09BzCyGf"
      },
      "source": [
        "#make pipeline\n",
        "model = Pipeline([('scaled' , StandardScaler()),('LR' ,LogisticRegression())])\n",
        "\n",
        "#use 10-fold cross valiation for better results on training data\n",
        "cv = KFold(n_splits=10, random_state=7, shuffle=True)\n",
        "cv_score = cross_val_score(model, X_train, y_train, cv=cv, scoring='accuracy')\n",
        "\n",
        "# fit the model on train set\n",
        "model.fit(X_train, y_train)\n",
        "\n",
        "#predict the results\n",
        "y_pred = model.predict(X_test)"
      ],
      "execution_count": 49,
      "outputs": []
    },
    {
      "cell_type": "markdown",
      "metadata": {
        "id": "9OtGE57GQpYd"
      },
      "source": [
        "**Check the metrics**"
      ]
    },
    {
      "cell_type": "code",
      "metadata": {
        "colab": {
          "base_uri": "https://localhost:8080/",
          "height": 506
        },
        "id": "IgS9k3DaPL_7",
        "outputId": "20e0a6c8-f63b-4016-8eb2-f0549efe4a98"
      },
      "source": [
        "print(f\"Тrain accuracy: {model.score(X_train, y_train)*100}\\nТest accuracy: {model.score(X_test, y_test)*100}\")\n",
        "\n",
        "print(\"for 10-fold Cross Validation cross_val_score: \", cv_score.mean()*100)\n",
        "\n",
        "cm = confusion_matrix(y_test, y_pred)\n",
        "sns.heatmap(cm, annot=True).set_title('Confusion Matrix', fontsize = 15)\n",
        "\n",
        "# print classification report\n",
        "print(\"\\n\", classification_report(y_test, y_pred))"
      ],
      "execution_count": 50,
      "outputs": [
        {
          "output_type": "stream",
          "text": [
            "Тrain accuracy: 81.26272912423626\n",
            "Тest accuracy: 79.67479674796748\n",
            "for 10-fold Cross Validation cross_val_score:  81.25714285714285\n",
            "\n",
            "               precision    recall  f1-score   support\n",
            "\n",
            "           0       0.86      0.45      0.59        40\n",
            "           1       0.78      0.96      0.86        83\n",
            "\n",
            "    accuracy                           0.80       123\n",
            "   macro avg       0.82      0.71      0.73       123\n",
            "weighted avg       0.81      0.80      0.78       123\n",
            "\n"
          ],
          "name": "stdout"
        },
        {
          "output_type": "display_data",
          "data": {
            "image/png": "[encoded data removed]",
            "text/plain": [
              "<Figure size 432x288 with 2 Axes>"
            ]
          },
          "metadata": {
            "tags": [],
            "needs_background": "light"
          }
        }
      ]
    },
    {
      "cell_type": "markdown",
      "metadata": {
        "id": "ztdI0WbdOO7I"
      },
      "source": [
        "**Model Building Outcomes**\n",
        "*   LogisticRegression produces around 80% accuracy.\n",
        "*   Diagonal in confusion matrix have high values of 18 and 80 (which is good)."
      ]
    }
  ]
}